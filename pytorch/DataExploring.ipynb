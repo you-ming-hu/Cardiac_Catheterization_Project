{
 "cells": [
  {
   "cell_type": "code",
   "execution_count": 2,
   "id": "655fa88f",
   "metadata": {},
   "outputs": [],
   "source": [
    "import pathlib\n",
    "import numpy as np\n",
    "import pandas as pd"
   ]
  },
  {
   "cell_type": "code",
   "execution_count": 3,
   "id": "3475195a",
   "metadata": {},
   "outputs": [],
   "source": [
    "images_path = r'C:\\Users\\Atlas\\Downloads\\Cardiac_Catheterization\\train\\images'\n",
    "images_file = list(pathlib.Path(images_path).glob('*.png'))"
   ]
  },
  {
   "cell_type": "code",
   "execution_count": 4,
   "id": "a048094a",
   "metadata": {},
   "outputs": [
    {
     "data": {
      "text/plain": [
       "WindowsPath('C:/Users/Atlas/Downloads/Cardiac_Catheterization/train/images/0655[0]_47.png')"
      ]
     },
     "execution_count": 4,
     "metadata": {},
     "output_type": "execute_result"
    }
   ],
   "source": [
    "images_file[0]"
   ]
  },
  {
   "cell_type": "code",
   "execution_count": 5,
   "id": "914c093b",
   "metadata": {},
   "outputs": [
    {
     "data": {
      "text/html": [
       "<div>\n",
       "<style scoped>\n",
       "    .dataframe tbody tr th:only-of-type {\n",
       "        vertical-align: middle;\n",
       "    }\n",
       "\n",
       "    .dataframe tbody tr th {\n",
       "        vertical-align: top;\n",
       "    }\n",
       "\n",
       "    .dataframe thead th {\n",
       "        text-align: right;\n",
       "    }\n",
       "</style>\n",
       "<table border=\"1\" class=\"dataframe\">\n",
       "  <thead>\n",
       "    <tr style=\"text-align: right;\">\n",
       "      <th></th>\n",
       "      <th>Paths</th>\n",
       "      <th>FileName</th>\n",
       "      <th>Prefix</th>\n",
       "      <th>Number</th>\n",
       "    </tr>\n",
       "  </thead>\n",
       "  <tbody>\n",
       "    <tr>\n",
       "      <th>0</th>\n",
       "      <td>C:\\Users\\Atlas\\Downloads\\Cardiac_Catheterizati...</td>\n",
       "      <td>0655[0]_47</td>\n",
       "      <td>0655[0]</td>\n",
       "      <td>47</td>\n",
       "    </tr>\n",
       "    <tr>\n",
       "      <th>1</th>\n",
       "      <td>C:\\Users\\Atlas\\Downloads\\Cardiac_Catheterizati...</td>\n",
       "      <td>0655[0]_48</td>\n",
       "      <td>0655[0]</td>\n",
       "      <td>48</td>\n",
       "    </tr>\n",
       "    <tr>\n",
       "      <th>2</th>\n",
       "      <td>C:\\Users\\Atlas\\Downloads\\Cardiac_Catheterizati...</td>\n",
       "      <td>0655[0]_49</td>\n",
       "      <td>0655[0]</td>\n",
       "      <td>49</td>\n",
       "    </tr>\n",
       "    <tr>\n",
       "      <th>3</th>\n",
       "      <td>C:\\Users\\Atlas\\Downloads\\Cardiac_Catheterizati...</td>\n",
       "      <td>0655[0]_50</td>\n",
       "      <td>0655[0]</td>\n",
       "      <td>50</td>\n",
       "    </tr>\n",
       "    <tr>\n",
       "      <th>4</th>\n",
       "      <td>C:\\Users\\Atlas\\Downloads\\Cardiac_Catheterizati...</td>\n",
       "      <td>0655[0]_51</td>\n",
       "      <td>0655[0]</td>\n",
       "      <td>51</td>\n",
       "    </tr>\n",
       "  </tbody>\n",
       "</table>\n",
       "</div>"
      ],
      "text/plain": [
       "                                               Paths    FileName   Prefix  \\\n",
       "0  C:\\Users\\Atlas\\Downloads\\Cardiac_Catheterizati...  0655[0]_47  0655[0]   \n",
       "1  C:\\Users\\Atlas\\Downloads\\Cardiac_Catheterizati...  0655[0]_48  0655[0]   \n",
       "2  C:\\Users\\Atlas\\Downloads\\Cardiac_Catheterizati...  0655[0]_49  0655[0]   \n",
       "3  C:\\Users\\Atlas\\Downloads\\Cardiac_Catheterizati...  0655[0]_50  0655[0]   \n",
       "4  C:\\Users\\Atlas\\Downloads\\Cardiac_Catheterizati...  0655[0]_51  0655[0]   \n",
       "\n",
       "   Number  \n",
       "0      47  \n",
       "1      48  \n",
       "2      49  \n",
       "3      50  \n",
       "4      51  "
      ]
     },
     "execution_count": 5,
     "metadata": {},
     "output_type": "execute_result"
    }
   ],
   "source": [
    "table = pd.DataFrame(images_file,columns=['Paths'])\n",
    "table['FileName'] = table['Paths'].apply(lambda x: x.with_suffix('').name)\n",
    "table[['Prefix','Number']] = table['FileName'].str.split('_',expand=True)\n",
    "table['Number'] = table['Number'].astype(int)\n",
    "table.head()\n"
   ]
  },
  {
   "cell_type": "code",
   "execution_count": 6,
   "id": "7b611652",
   "metadata": {},
   "outputs": [
    {
     "name": "stdout",
     "output_type": "stream",
     "text": [
      "there are  42 groups in the images\n"
     ]
    }
   ],
   "source": [
    "print('there are ',table['Prefix'].unique().size, 'groups in the images')"
   ]
  },
  {
   "cell_type": "code",
   "execution_count": 7,
   "id": "93437e5a",
   "metadata": {},
   "outputs": [
    {
     "name": "stdout",
     "output_type": "stream",
     "text": [
      "how many images in each group ?\n"
     ]
    },
    {
     "data": {
      "text/plain": [
       "2C7048[0]      97\n",
       "2C0365[0]      83\n",
       "2C6426[0]      82\n",
       "2C0581[0]      76\n",
       "2C0602[0]      67\n",
       "50620605[0]    66\n",
       "0661[0]        60\n",
       "2C6886[0]      56\n",
       "2C5844[0]      55\n",
       "0675[0]        55\n",
       "20310[0]       53\n",
       "3C1992[0]      53\n",
       "18891130[0]    52\n",
       "2C0584[0]      49\n",
       "2C7141[0]      46\n",
       "0747[0]        46\n",
       "2C6792[0]      45\n",
       "0655[0]        42\n",
       "3C1627[0]      41\n",
       "C0955[0]       41\n",
       "3C1667[0]      40\n",
       "2C6767[0]      39\n",
       "2C7422[0]      39\n",
       "17729879[0]    38\n",
       "2C7229[0]      36\n",
       "C0974[0]       35\n",
       "2C1487[0]      34\n",
       "3C1774[0]      30\n",
       "3C1942[0]      28\n",
       "2C6762[0]      27\n",
       "2C7529[0]      26\n",
       "50674806[0]    26\n",
       "C0759[0]       24\n",
       "2C7364[0]      21\n",
       "2C6779[0]      21\n",
       "0678[0]        21\n",
       "C0827[0]       19\n",
       "3C1955[0]      15\n",
       "0669[0]        14\n",
       "3C1808[0]      13\n",
       "2C6429[0]       3\n",
       "2C6852[0]       3\n",
       "Name: Prefix, dtype: int64"
      ]
     },
     "execution_count": 7,
     "metadata": {},
     "output_type": "execute_result"
    }
   ],
   "source": [
    "print('how many images in each group ?')\n",
    "group_images_count = table['Prefix'].value_counts()\n",
    "group_images_count"
   ]
  },
  {
   "cell_type": "code",
   "execution_count": 8,
   "id": "add791fe",
   "metadata": {},
   "outputs": [
    {
     "name": "stdout",
     "output_type": "stream",
     "text": [
      "check out whether each group has only one sequence of numbers by examing the number in each gruop\n"
     ]
    }
   ],
   "source": [
    "print('check out whether each group has only one sequence of numbers by examing the number in each gruop')"
   ]
  },
  {
   "cell_type": "code",
   "execution_count": 9,
   "id": "68fd240a",
   "metadata": {},
   "outputs": [
    {
     "data": {
      "text/plain": [
       "2C7048[0]      [61, 62, 63, 64, 65, 66, 67, 68, 69, 70, 71, 7...\n",
       "2C0365[0]      [44, 45, 46, 47, 48, 49, 50, 51, 52, 53, 54, 5...\n",
       "2C6426[0]      [73, 74, 75, 76, 77, 78, 79, 80, 81, 82, 83, 8...\n",
       "2C0581[0]      [41, 43, 45, 46, 47, 48, 49, 51, 52, 53, 54, 5...\n",
       "2C0602[0]      [37, 38, 39, 40, 41, 42, 43, 44, 45, 46, 47, 4...\n",
       "50620605[0]    [57, 58, 59, 60, 61, 62, 63, 64, 65, 66, 67, 6...\n",
       "0661[0]        [38, 39, 40, 41, 42, 43, 44, 45, 46, 47, 48, 4...\n",
       "2C6886[0]      [68, 69, 70, 71, 72, 73, 74, 75, 76, 77, 78, 7...\n",
       "2C5844[0]      [73, 74, 75, 76, 77, 78, 79, 80, 81, 82, 83, 8...\n",
       "0675[0]        [45, 46, 47, 48, 49, 50, 51, 52, 53, 54, 56, 5...\n",
       "20310[0]       [56, 57, 58, 59, 60, 61, 62, 63, 64, 65, 66, 6...\n",
       "3C1992[0]      [40, 41, 42, 43, 44, 45, 46, 47, 48, 49, 50, 5...\n",
       "18891130[0]    [69, 70, 71, 72, 73, 74, 75, 76, 77, 78, 79, 8...\n",
       "2C0584[0]      [53, 54, 55, 56, 57, 58, 59, 60, 61, 62, 63, 6...\n",
       "2C7141[0]      [74, 75, 76, 77, 78, 79, 80, 81, 82, 83, 84, 8...\n",
       "0747[0]        [47, 48, 49, 50, 51, 52, 53, 54, 55, 56, 57, 5...\n",
       "2C6792[0]      [64, 65, 66, 67, 68, 69, 72, 73, 74, 75, 76, 7...\n",
       "0655[0]        [47, 48, 49, 50, 51, 52, 53, 54, 55, 56, 57, 5...\n",
       "3C1627[0]      [38, 39, 40, 41, 42, 43, 44, 45, 46, 47, 48, 4...\n",
       "C0955[0]       [45, 46, 47, 48, 49, 50, 51, 52, 53, 54, 55, 5...\n",
       "3C1667[0]      [37, 38, 39, 40, 41, 42, 43, 44, 45, 46, 47, 4...\n",
       "2C6767[0]      [36, 37, 38, 39, 40, 41, 42, 43, 44, 45, 46, 4...\n",
       "2C7422[0]      [38, 39, 40, 41, 42, 43, 44, 45, 46, 47, 48, 4...\n",
       "17729879[0]    [52, 53, 54, 55, 56, 57, 58, 59, 60, 61, 62, 6...\n",
       "2C7229[0]      [30, 31, 32, 33, 34, 35, 36, 37, 38, 39, 40, 4...\n",
       "C0974[0]       [51, 52, 53, 54, 55, 56, 57, 58, 59, 60, 61, 6...\n",
       "2C1487[0]      [31, 32, 33, 34, 35, 36, 37, 38, 39, 40, 41, 4...\n",
       "3C1774[0]      [49, 50, 51, 52, 53, 54, 55, 56, 57, 58, 59, 6...\n",
       "3C1942[0]      [30, 31, 32, 33, 34, 35, 36, 37, 38, 39, 40, 4...\n",
       "2C6762[0]      [25, 26, 27, 28, 29, 30, 31, 32, 33, 34, 35, 3...\n",
       "2C7529[0]      [37, 38, 39, 40, 41, 42, 43, 44, 45, 46, 47, 4...\n",
       "50674806[0]    [48, 59, 60, 61, 62, 63, 64, 65, 82, 83, 84, 8...\n",
       "C0759[0]       [42, 43, 44, 45, 46, 47, 48, 49, 50, 51, 52, 5...\n",
       "2C7364[0]      [50, 51, 52, 53, 54, 55, 56, 57, 58, 59, 60, 6...\n",
       "2C6779[0]      [67, 68, 72, 73, 74, 84, 102, 103, 104, 105, 1...\n",
       "0678[0]        [40, 41, 42, 43, 44, 45, 46, 47, 48, 49, 50, 5...\n",
       "C0827[0]       [63, 64, 65, 66, 67, 68, 69, 70, 71, 72, 73, 7...\n",
       "3C1955[0]      [35, 36, 37, 38, 39, 40, 41, 42, 43, 44, 45, 4...\n",
       "0669[0]        [58, 59, 60, 61, 62, 63, 64, 65, 66, 67, 68, 6...\n",
       "3C1808[0]      [29, 30, 31, 32, 33, 34, 36, 37, 38, 39, 40, 4...\n",
       "2C6429[0]                                           [49, 50, 51]\n",
       "2C6852[0]                                           [23, 24, 25]\n",
       "Name: Number, dtype: object"
      ]
     },
     "execution_count": 9,
     "metadata": {},
     "output_type": "execute_result"
    }
   ],
   "source": [
    "group_number_table = table.groupby('Prefix')['Number'].apply(lambda ser:ser.sort_values().values)\n",
    "group_number_table = group_number_table.reindex(group_images_count.index)\n",
    "group_number_table"
   ]
  },
  {
   "cell_type": "code",
   "execution_count": 10,
   "id": "a53c607a",
   "metadata": {},
   "outputs": [
    {
     "data": {
      "text/plain": [
       "2C7048[0]      [1, 1, 1, 1, 1, 1, 1, 1, 1, 1, 1, 1, 1, 1, 1, ...\n",
       "2C0365[0]      [1, 1, 1, 1, 1, 1, 1, 1, 1, 1, 1, 1, 1, 1, 1, ...\n",
       "2C6426[0]      [1, 1, 1, 1, 1, 1, 1, 1, 1, 1, 1, 1, 1, 1, 1, ...\n",
       "2C0581[0]      [2, 2, 1, 1, 1, 1, 2, 1, 1, 1, 2, 2, 1, 1, 1, ...\n",
       "2C0602[0]      [1, 1, 1, 1, 1, 1, 1, 1, 1, 1, 1, 1, 1, 1, 1, ...\n",
       "50620605[0]    [1, 1, 1, 1, 1, 1, 1, 1, 1, 1, 1, 1, 1, 1, 1, ...\n",
       "0661[0]        [1, 1, 1, 1, 1, 1, 1, 1, 1, 1, 1, 2, 2, 1, 1, ...\n",
       "2C6886[0]      [1, 1, 1, 1, 1, 1, 1, 1, 1, 1, 1, 1, 1, 1, 1, ...\n",
       "2C5844[0]      [1, 1, 1, 1, 1, 1, 1, 1, 1, 1, 1, 1, 1, 1, 1, ...\n",
       "0675[0]        [1, 1, 1, 1, 1, 1, 1, 1, 1, 2, 1, 1, 1, 1, 1, ...\n",
       "20310[0]       [1, 1, 1, 1, 1, 1, 1, 1, 1, 1, 2, 1, 1, 1, 1, ...\n",
       "3C1992[0]      [1, 1, 1, 1, 1, 1, 1, 1, 1, 1, 1, 1, 1, 1, 1, ...\n",
       "18891130[0]    [1, 1, 1, 1, 1, 1, 1, 1, 1, 1, 1, 1, 1, 1, 1, ...\n",
       "2C0584[0]      [1, 1, 1, 1, 1, 1, 1, 1, 1, 1, 1, 1, 1, 1, 1, ...\n",
       "2C7141[0]      [1, 1, 1, 1, 1, 1, 1, 1, 1, 1, 1, 1, 1, 1, 1, ...\n",
       "0747[0]        [1, 1, 1, 1, 1, 1, 1, 1, 1, 1, 1, 1, 1, 1, 1, ...\n",
       "2C6792[0]      [1, 1, 1, 1, 1, 3, 1, 1, 1, 1, 1, 1, 1, 2, 1, ...\n",
       "0655[0]        [1, 1, 1, 1, 1, 1, 1, 1, 1, 1, 1, 1, 1, 1, 1, ...\n",
       "3C1627[0]      [1, 1, 1, 1, 1, 1, 1, 1, 1, 1, 1, 1, 1, 1, 1, ...\n",
       "C0955[0]       [1, 1, 1, 1, 1, 1, 1, 1, 1, 1, 1, 1, 1, 1, 1, ...\n",
       "3C1667[0]      [1, 1, 1, 1, 1, 1, 1, 1, 1, 1, 1, 1, 1, 1, 1, ...\n",
       "2C6767[0]      [1, 1, 1, 1, 1, 1, 1, 1, 1, 1, 1, 1, 1, 1, 1, ...\n",
       "2C7422[0]      [1, 1, 1, 1, 1, 1, 1, 1, 1, 1, 1, 1, 1, 1, 1, ...\n",
       "17729879[0]    [1, 1, 1, 1, 1, 1, 1, 1, 1, 1, 1, 1, 1, 1, 1, ...\n",
       "2C7229[0]      [1, 1, 1, 1, 1, 1, 1, 1, 1, 1, 1, 1, 1, 1, 1, ...\n",
       "C0974[0]       [1, 1, 1, 1, 1, 1, 1, 1, 1, 1, 1, 1, 1, 1, 1, ...\n",
       "2C1487[0]      [1, 1, 1, 1, 1, 1, 1, 1, 1, 1, 1, 1, 1, 1, 1, ...\n",
       "3C1774[0]      [1, 1, 1, 1, 1, 1, 1, 1, 1, 1, 1, 1, 1, 1, 1, ...\n",
       "3C1942[0]      [1, 1, 1, 1, 1, 1, 1, 1, 1, 1, 1, 1, 1, 1, 1, ...\n",
       "2C6762[0]      [1, 1, 1, 1, 1, 1, 1, 1, 1, 1, 1, 1, 1, 1, 1, ...\n",
       "2C7529[0]      [1, 1, 1, 1, 1, 1, 1, 1, 1, 1, 1, 1, 1, 1, 1, ...\n",
       "50674806[0]    [11, 1, 1, 1, 1, 1, 1, 17, 1, 1, 1, 1, 1, 1, 1...\n",
       "C0759[0]       [1, 1, 1, 1, 1, 1, 1, 1, 1, 1, 1, 1, 1, 1, 1, ...\n",
       "2C7364[0]      [1, 1, 1, 1, 1, 1, 1, 1, 1, 1, 1, 1, 1, 1, 1, ...\n",
       "2C6779[0]      [1, 4, 1, 1, 10, 18, 1, 1, 1, 1, 1, 1, 1, 1, 2...\n",
       "0678[0]        [1, 1, 1, 1, 1, 1, 1, 1, 1, 1, 1, 1, 1, 1, 1, ...\n",
       "C0827[0]       [1, 1, 1, 1, 1, 1, 1, 1, 1, 1, 1, 1, 1, 1, 1, ...\n",
       "3C1955[0]             [1, 1, 1, 1, 1, 1, 1, 1, 1, 1, 1, 1, 1, 1]\n",
       "0669[0]                  [1, 1, 1, 1, 1, 1, 1, 1, 1, 1, 1, 1, 1]\n",
       "3C1808[0]                   [1, 1, 1, 1, 1, 2, 1, 1, 1, 1, 1, 1]\n",
       "2C6429[0]                                                 [1, 1]\n",
       "2C6852[0]                                                 [1, 1]\n",
       "Name: Number, dtype: object"
      ]
     },
     "execution_count": 10,
     "metadata": {},
     "output_type": "execute_result"
    }
   ],
   "source": [
    "number_difference_table = group_number_table.apply(lambda arr: arr[1:]-arr[:-1])\n",
    "number_difference_table"
   ]
  },
  {
   "cell_type": "code",
   "execution_count": 11,
   "id": "fb5fccb2",
   "metadata": {},
   "outputs": [
    {
     "data": {
      "text/plain": [
       "2C7048[0]                                      {1: 96}\n",
       "2C0365[0]                                      {1: 82}\n",
       "2C6426[0]                                      {1: 81}\n",
       "2C0581[0]                                {1: 68, 2: 7}\n",
       "2C0602[0]                                      {1: 66}\n",
       "50620605[0]                                    {1: 65}\n",
       "0661[0]                                  {1: 51, 2: 8}\n",
       "2C6886[0]                                      {1: 55}\n",
       "2C5844[0]                                      {1: 54}\n",
       "0675[0]                                  {1: 50, 2: 4}\n",
       "20310[0]                                 {1: 50, 2: 2}\n",
       "3C1992[0]                                      {1: 52}\n",
       "18891130[0]                                    {1: 51}\n",
       "2C0584[0]                                      {1: 48}\n",
       "2C7141[0]                                {1: 44, 6: 1}\n",
       "0747[0]                                        {1: 45}\n",
       "2C6792[0]                          {1: 42, 3: 1, 2: 1}\n",
       "0655[0]                                        {1: 41}\n",
       "3C1627[0]                                      {1: 40}\n",
       "C0955[0]                                       {1: 40}\n",
       "3C1667[0]                                      {1: 39}\n",
       "2C6767[0]                                      {1: 38}\n",
       "2C7422[0]                                      {1: 38}\n",
       "17729879[0]                                    {1: 37}\n",
       "2C7229[0]                                      {1: 35}\n",
       "C0974[0]                                       {1: 34}\n",
       "2C1487[0]                                      {1: 33}\n",
       "3C1774[0]                                      {1: 29}\n",
       "3C1942[0]                                      {1: 27}\n",
       "2C6762[0]                                      {1: 26}\n",
       "2C7529[0]                                      {1: 25}\n",
       "50674806[0]                      {1: 23, 11: 1, 17: 1}\n",
       "C0759[0]                                       {1: 23}\n",
       "2C7364[0]                                      {1: 20}\n",
       "2C6779[0]      {1: 15, 4: 1, 10: 1, 18: 1, 2: 1, 6: 1}\n",
       "0678[0]                                        {1: 20}\n",
       "C0827[0]                                       {1: 18}\n",
       "3C1955[0]                                      {1: 14}\n",
       "0669[0]                                        {1: 13}\n",
       "3C1808[0]                                {1: 11, 2: 1}\n",
       "2C6429[0]                                       {1: 2}\n",
       "2C6852[0]                                       {1: 2}\n",
       "Name: Number, dtype: object"
      ]
     },
     "execution_count": 11,
     "metadata": {},
     "output_type": "execute_result"
    }
   ],
   "source": [
    "difference_count_table = number_difference_table.apply(lambda arr: pd.value_counts(arr).to_dict())\n",
    "difference_count_table"
   ]
  },
  {
   "cell_type": "code",
   "execution_count": 12,
   "id": "9171eaad",
   "metadata": {},
   "outputs": [
    {
     "data": {
      "text/plain": [
       "2C0581[0]                                {1: 68, 2: 7}\n",
       "0661[0]                                  {1: 51, 2: 8}\n",
       "0675[0]                                  {1: 50, 2: 4}\n",
       "20310[0]                                 {1: 50, 2: 2}\n",
       "2C7141[0]                                {1: 44, 6: 1}\n",
       "2C6792[0]                          {1: 42, 3: 1, 2: 1}\n",
       "50674806[0]                      {1: 23, 11: 1, 17: 1}\n",
       "2C6779[0]      {1: 15, 4: 1, 10: 1, 18: 1, 2: 1, 6: 1}\n",
       "3C1808[0]                                {1: 11, 2: 1}\n",
       "Name: Number, dtype: object"
      ]
     },
     "execution_count": 12,
     "metadata": {},
     "output_type": "execute_result"
    }
   ],
   "source": [
    "difference_count_table.loc[difference_count_table.apply(lambda x:len(x)!=1)]"
   ]
  },
  {
   "cell_type": "code",
   "execution_count": 28,
   "id": "f838c25f",
   "metadata": {},
   "outputs": [
    {
     "name": "stdout",
     "output_type": "stream",
     "text": [
      "2C0581[0]\n",
      "41 43 // 43 45 // 49 51 // 54 56 // 56 58 // 71 73 // 103 105 // \n",
      "0661[0]\n",
      "49 51 // 51 53 // 55 57 // 59 61 // 62 64 // 66 68 // 69 71 // 74 76 // \n",
      "0675[0]\n",
      "54 56 // 73 75 // 80 82 // 88 90 // \n",
      "20310[0]\n",
      "66 68 // 86 88 // \n",
      "2C7141[0]\n",
      "105 111 // \n",
      "2C6792[0]\n",
      "69 72 // 79 81 // \n",
      "50674806[0]\n",
      "48 59 // 65 82 // \n",
      "2C6779[0]\n",
      "68 72 // 74 84 // 84 102 // 110 112 // 115 121 // \n",
      "3C1808[0]\n",
      "34 36 // \n"
     ]
    }
   ],
   "source": [
    "for index, numbers in group_number_table.loc[difference_count_table.apply(lambda x:len(x)!=1)].iteritems():\n",
    "    print(index)\n",
    "    for i,n in enumerate(numbers[:-1]):\n",
    "        if numbers[i+1] - n > 1:\n",
    "            print(n,numbers[i+1],end=' // ')\n",
    "    print('')\n"
   ]
  },
  {
   "cell_type": "code",
   "execution_count": null,
   "id": "6195a05b",
   "metadata": {},
   "outputs": [],
   "source": []
  }
 ],
 "metadata": {
  "kernelspec": {
   "display_name": "Python 3",
   "language": "python",
   "name": "python3"
  },
  "language_info": {
   "codemirror_mode": {
    "name": "ipython",
    "version": 3
   },
   "file_extension": ".py",
   "mimetype": "text/x-python",
   "name": "python",
   "nbconvert_exporter": "python",
   "pygments_lexer": "ipython3",
   "version": "3.8.5"
  },
  "toc": {
   "base_numbering": 1,
   "nav_menu": {},
   "number_sections": true,
   "sideBar": true,
   "skip_h1_title": false,
   "title_cell": "Table of Contents",
   "title_sidebar": "Contents",
   "toc_cell": false,
   "toc_position": {},
   "toc_section_display": true,
   "toc_window_display": false
  },
  "varInspector": {
   "cols": {
    "lenName": 16,
    "lenType": 16,
    "lenVar": 40
   },
   "kernels_config": {
    "python": {
     "delete_cmd_postfix": "",
     "delete_cmd_prefix": "del ",
     "library": "var_list.py",
     "varRefreshCmd": "print(var_dic_list())"
    },
    "r": {
     "delete_cmd_postfix": ") ",
     "delete_cmd_prefix": "rm(",
     "library": "var_list.r",
     "varRefreshCmd": "cat(var_dic_list()) "
    }
   },
   "types_to_exclude": [
    "module",
    "function",
    "builtin_function_or_method",
    "instance",
    "_Feature"
   ],
   "window_display": false
  }
 },
 "nbformat": 4,
 "nbformat_minor": 5
}
