{
 "cells": [
  {
   "cell_type": "code",
   "execution_count": null,
   "id": "58e953b2",
   "metadata": {},
   "outputs": [],
   "source": [
    "from utils.configuration import Editor\n",
    "\n",
    "with Editor('Config') as Config:\n",
    "\n",
    "    Config.Model.Backbone.Name = 'Unet'\n",
    "    Config.Model.Backbone.Encoder = 'densenet201'\n",
    "    Config.Model.Head.Name = 'Head_1'\n",
    "    Config.Model.Head.Param = dict(logit_output=True, in_channels=4)\n",
    "    Config.Model.LoadWeights = r''\n",
    "    \n",
    "    Config.Dataset.ImagesRootPath = '/kaggle/input/cardiac-catheterization/Cardiac_Catheterization/train/images'\n",
    "    Config.Dataset.BatchSize = 8\n",
    "    # control input and output image format\n",
    "    Config.Dataset.IO.InputRGBImage = False\n",
    "    Config.Dataset.IO.NumWorkers = 0\n",
    "    Config.Dataset.IO.PinMemory = False\n",
    "    Config.Dataset.IO.PrefetchFactor = 2\n",
    "    Config.Dataset.IO.OutputDtype = 'float'\n",
    "    # uniformed preprocess\n",
    "    Config.Dataset.Preprocess.Version = 'v1'\n",
    "    \n",
    "    "
   ]
  },
  {
   "cell_type": "code",
   "execution_count": null,
   "id": "f90fd771",
   "metadata": {},
   "outputs": [],
   "source": [
    "import torch\n",
    "\n",
    "import Tasks.SimpleSeg.Model.Backbones as Backbones\n",
    "import Tasks.SimpleSeg.Model.Heads as Heads\n",
    "from utils import ModelBuilder\n",
    "from tqdm import tqdm\n",
    "\n",
    "import Transform.Preprocess\n",
    "\n",
    "\n",
    "def create_model(Config):\n",
    "    \n",
    "    if Config.Model.Backbone.Name == 'Unet':\n",
    "        backbone_param = dict(encoder_name=Config.Model.Backbone.Encoder, encoder_weights=None, in_channels=1, out_channels=4)\n",
    "\n",
    "    elif Config.Model.Backbone.Name == 'AttDs':\n",
    "        assert Config.Model.Backbone.Encoder == None\n",
    "        backbone_param = dict(in_channels=1, out_channels=4, att_dropout_count=0)\n",
    "\n",
    "    backbone_class = getattr(Backbones,Config.Model.Backbone.Name)\n",
    "    head_class = getattr(Heads,Config.Model.Head.Name)\n",
    "    model = ModelBuilder(\n",
    "        backbone_class(**backbone_param),\n",
    "        head_class(**Config.Model.Head.Param))\n",
    "    \n",
    "    model = model.load_state_dict(torch.load(Config.Model.LoadWeights))\n",
    "    return model\n",
    "    \n",
    "def create_dataset(Config):\n",
    "    \n",
    "    preprocess = getattr(Transform.Preprocess,Config.Dataset.Preprocess.Version)\n",
    "    \n",
    "    \n",
    "    dataloader = \n",
    "        \n",
    "    dataloader = tqdm(dataloader, position = 0, leave = True, desc=f'EPOCH: {epoch} {self.purpose}')"
   ]
  },
  {
   "cell_type": "code",
   "execution_count": null,
   "id": "5f9cb207",
   "metadata": {},
   "outputs": [],
   "source": [
    "device = torch.device(\"cuda\" if torch.cuda.is_available() else \"cpu\")\n",
    "model = create_model(Config)\n",
    "dataset = create_dataset(Config)\n",
    "\n",
    "model = model.to(device)\n",
    "model.eval()\n",
    "\n",
    "dataset = dataset.to(device)"
   ]
  },
  {
   "cell_type": "code",
   "execution_count": null,
   "id": "8f8ca5f8",
   "metadata": {},
   "outputs": [],
   "source": [
    "import io\n",
    "import pathlib\n",
    "import random\n",
    "import math\n",
    "import numpy as np\n",
    "import matplotlib.pyplot as plt\n",
    "\n",
    "from torch.cuda.amp import autocast, GradScaler\n",
    "\n",
    "\n",
    "from Dataset import TrainDataLoader\n",
    "\n",
    "import Transform.Combinations\n",
    "\n",
    "import Schedule.LearningRate\n",
    "\n",
    "import Tasks\n",
    "\n",
    "from utils import Recorder\n",
    "from utils import ModelBuilder\n",
    "\n",
    "import utils.configuration\n"
   ]
  }
 ],
 "metadata": {
  "kernelspec": {
   "display_name": "Python 3",
   "language": "python",
   "name": "python3"
  },
  "language_info": {
   "codemirror_mode": {
    "name": "ipython",
    "version": 3
   },
   "file_extension": ".py",
   "mimetype": "text/x-python",
   "name": "python",
   "nbconvert_exporter": "python",
   "pygments_lexer": "ipython3",
   "version": "3.8.5"
  },
  "toc": {
   "base_numbering": 1,
   "nav_menu": {},
   "number_sections": true,
   "sideBar": true,
   "skip_h1_title": false,
   "title_cell": "Table of Contents",
   "title_sidebar": "Contents",
   "toc_cell": false,
   "toc_position": {},
   "toc_section_display": true,
   "toc_window_display": false
  },
  "varInspector": {
   "cols": {
    "lenName": 16,
    "lenType": 16,
    "lenVar": 40
   },
   "kernels_config": {
    "python": {
     "delete_cmd_postfix": "",
     "delete_cmd_prefix": "del ",
     "library": "var_list.py",
     "varRefreshCmd": "print(var_dic_list())"
    },
    "r": {
     "delete_cmd_postfix": ") ",
     "delete_cmd_prefix": "rm(",
     "library": "var_list.r",
     "varRefreshCmd": "cat(var_dic_list()) "
    }
   },
   "types_to_exclude": [
    "module",
    "function",
    "builtin_function_or_method",
    "instance",
    "_Feature"
   ],
   "window_display": false
  }
 },
 "nbformat": 4,
 "nbformat_minor": 5
}
