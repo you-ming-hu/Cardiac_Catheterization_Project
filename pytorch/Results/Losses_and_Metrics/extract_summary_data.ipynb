{
 "cells": [
  {
   "cell_type": "code",
   "execution_count": 1,
   "id": "c8e8c72b",
   "metadata": {},
   "outputs": [],
   "source": [
    "import pathlib\n",
    "import pandas as pd"
   ]
  },
  {
   "cell_type": "code",
   "execution_count": 2,
   "id": "81aaad43",
   "metadata": {},
   "outputs": [],
   "source": [
    "data = []\n",
    "for metric_name in ['DiceAccuracy(threshold=0.5,smoothing=1)','DiceLoss(smoothing=1)']:\n",
    "    table = []\n",
    "    for csv_path in pathlib.Path(metric_name).rglob('*.csv'):\n",
    "        metric_name,model_name,is_pretrained,purpose,csv_name = csv_path.as_posix().split('/')\n",
    "        df = pd.read_csv(csv_path)\n",
    "        df['ModelName'] = model_name\n",
    "        df['IsPretrained'] = is_pretrained\n",
    "        df['Purpose'] = purpose\n",
    "        df['TrialNumber'] = csv_name.replace(f'_{purpose}','_').split('_')[-2]\n",
    "        df = df.rename({'Step':'ImagesCount'},axis='columns')\n",
    "        df = df.rename({'Value':metric_name},axis='columns')\n",
    "        df = df.drop('Wall time',axis='columns')\n",
    "        table.append(df)\n",
    "    data.append(pd.concat(table).set_index(['ImagesCount','ModelName','IsPretrained','Purpose','TrialNumber']))\n",
    "data = pd.concat(data,axis='columns')\n",
    "data = data.reset_index()\n",
    "data = data.replace({'Purpose':{'validation_wo_arg':'validation_w/o_arg'}})\n",
    "data = data.replace({'IsPretrained':{'Pretrained':'pretrained','NonPretrained':'non-pretrained'}})\n",
    "\n",
    "images_count_to_epoch = {i:e+1 for e,i in enumerate(sorted(data['ImagesCount'].value_counts(ascending=False)[:30].index))}\n",
    "epoch_data = data.loc[data['ImagesCount'].isin(images_count_to_epoch.keys())]\n",
    "epoch_data.insert(0,'Epoch',epoch_data['ImagesCount'].replace(images_count_to_epoch))\n",
    "epoch_data = epoch_data.drop('ImagesCount',axis='columns')"
   ]
  },
  {
   "cell_type": "code",
   "execution_count": 3,
   "id": "e3d24b85",
   "metadata": {},
   "outputs": [],
   "source": [
    "def save_data(data,kind):\n",
    "    seven_models_10_trails = data.loc[~data['TrialNumber'].isin(f'{x:0>2}' for x in range(11,21))]\n",
    "    six_models_10_trails = seven_models_10_trails.query(\"ModelName!='AttDs'\")\n",
    "    EfficientNet_vs_AttDs_20_trials = data.loc[data['ModelName'].isin(['EfficientNet','AttDs'])].query(\"IsPretrained=='pretrained'\")\n",
    "    EfficientNet_vs_AttDs_10_trials = EfficientNet_vs_AttDs_20_trials.loc[~EfficientNet_vs_AttDs_20_trials['TrialNumber'].isin(f'{x:0>2}' for x in range(11,21))]\n",
    "    \n",
    "    tables = {\n",
    "        'all':data,\n",
    "        '7_models_10_trails':seven_models_10_trails,\n",
    "        '6_models_10_trails':six_models_10_trails,\n",
    "        'EfficientNet_vs_AttDs_20_trials':EfficientNet_vs_AttDs_20_trials,\n",
    "        'EfficientNet_vs_AttDs_10_trials':EfficientNet_vs_AttDs_10_trials\n",
    "    }\n",
    "    \n",
    "    index_name = {'step_included':'ImagesCount','epoch_only':'Epoch'}\n",
    "    for folder_name, table in tables.items():\n",
    "        folder = pathlib.Path('summary_data',kind,folder_name)\n",
    "        stat = table.groupby(['ModelName','IsPretrained','Purpose',index_name[kind]]).aggregate(['median','mean','std','count']).drop('TrialNumber',axis='columns')\n",
    "        stat.columns = list(' '.join(x) for x in stat.columns)\n",
    "        stat = stat.reset_index()\n",
    "        \n",
    "        folder.mkdir()\n",
    "        table.to_csv(folder.joinpath('raw.csv'))\n",
    "        stat.to_csv(folder.joinpath('statistics.csv'))\n",
    "    \n",
    "    return None"
   ]
  },
  {
   "cell_type": "code",
   "execution_count": 4,
   "id": "52ebfe3d",
   "metadata": {},
   "outputs": [],
   "source": [
    "save_data(data,'step_included')\n",
    "save_data(epoch_data,'epoch_only')"
   ]
  }
 ],
 "metadata": {
  "kernelspec": {
   "display_name": "Python 3",
   "language": "python",
   "name": "python3"
  },
  "language_info": {
   "codemirror_mode": {
    "name": "ipython",
    "version": 3
   },
   "file_extension": ".py",
   "mimetype": "text/x-python",
   "name": "python",
   "nbconvert_exporter": "python",
   "pygments_lexer": "ipython3",
   "version": "3.8.3"
  },
  "toc": {
   "base_numbering": 1,
   "nav_menu": {},
   "number_sections": true,
   "sideBar": true,
   "skip_h1_title": false,
   "title_cell": "Table of Contents",
   "title_sidebar": "Contents",
   "toc_cell": false,
   "toc_position": {},
   "toc_section_display": true,
   "toc_window_display": false
  },
  "varInspector": {
   "cols": {
    "lenName": 16,
    "lenType": 16,
    "lenVar": 40
   },
   "kernels_config": {
    "python": {
     "delete_cmd_postfix": "",
     "delete_cmd_prefix": "del ",
     "library": "var_list.py",
     "varRefreshCmd": "print(var_dic_list())"
    },
    "r": {
     "delete_cmd_postfix": ") ",
     "delete_cmd_prefix": "rm(",
     "library": "var_list.r",
     "varRefreshCmd": "cat(var_dic_list()) "
    }
   },
   "types_to_exclude": [
    "module",
    "function",
    "builtin_function_or_method",
    "instance",
    "_Feature"
   ],
   "window_display": false
  }
 },
 "nbformat": 4,
 "nbformat_minor": 5
}
