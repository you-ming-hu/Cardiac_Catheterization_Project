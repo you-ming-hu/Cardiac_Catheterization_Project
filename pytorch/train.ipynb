{
 "cells": [
  {
   "cell_type": "code",
   "execution_count": 1,
   "id": "25a5adff",
   "metadata": {},
   "outputs": [],
   "source": [
    "import Transform.Schedule\n",
    "\n",
    "from Configuration import Editor\n",
    "\n",
    "with Editor('Config') as Config:\n",
    "\n",
    "    # settings for dataset\n",
    "    Config.Dataset.ImagesRootPath = r'D:\\Dataset_Collection\\Cardiac_Catheterization\\train\\images'\n",
    "    Config.Dataset.MasksRootPath = r'D:\\Dataset_Collection\\Cardiac_Catheterization\\train\\masks'\n",
    "    # control input and output image format\n",
    "    Config.Dataset.IO.InputRGBImage = False\n",
    "    Config.Dataset.IO.NumWorkers = 0\n",
    "    Config.Dataset.IO.PinMemory = False\n",
    "    Config.Dataset.IO.PrefetchFactor = 2\n",
    "    Config.Dataset.IO.OutputDtype = 'float'\n",
    "    # uniformed preprocess\n",
    "    Config.Dataset.Preprocess.Version = 'v1'\n",
    "    #train dataset\n",
    "    Config.Dataset.Train.BatchSize = 1\n",
    "    Config.Dataset.Train.Transform.Combination.Version = 'v1'\n",
    "    Config.Dataset.Train.Transform.Schedule = 0.8\n",
    "    Config.Dataset.Train.Transform.Combination.Components = 'default'\n",
    "    Config.Dataset.Train.Transform.Combination.Params = 'default'\n",
    "    Config.Dataset.Train.Transform.Combination.Schedules = 'default'\n",
    "    #validation dataset\n",
    "    Config.Dataset.Validation.BatchSize = 2\n",
    "    Config.Dataset.Validation.Ratio = 0.05\n",
    "    Config.Dataset.Validation.Transform.Combination.Version = 'v1'\n",
    "    Config.Dataset.Validation.Transform.Schedule = 0.8\n",
    "    Config.Dataset.Validation.Transform.Combination.Components = 'default'\n",
    "    Config.Dataset.Validation.Transform.Combination.Params = 'default'\n",
    "    Config.Dataset.Validation.Transform.Combination.Schedules = 'default'\n",
    "    \n",
    "    #choose training structure, including the model, loss, metrics, optimizer, schedular\n",
    "    Config.Training.Structure.Type = 'SimpleSeg'\n",
    "    # model\n",
    "    Config.Training.Structure.Model.Backbone.Name = 'Backbone1'\n",
    "    Config.Training.Structure.Model.Backbone.Param = dict(ues_instance_norm=True)\n",
    "    Config.Training.Structure.Model.Head.Name = 'V1'\n",
    "    Config.Training.Structure.Model.Head.Param = dict(logit_output=True,in_channels=4)\n",
    "    # loss\n",
    "    Config.Training.Structure.Loss.Name = 'DiceBCELoss'\n",
    "    Config.Training.Structure.Loss.Param = dict(use_logit=True,w_bce=0.2)\n",
    "    # optimizer\n",
    "    Config.Training.Structure.Optimizer.Name = 'Adam'\n",
    "    Config.Training.Structure.Optimizer.Param = dict(lr=0.001)\n",
    "    # scheduler\n",
    "    Config.Training.Structure.Scheduler.Name = 'CustomSchedule1'\n",
    "    Config.Training.Structure.Scheduler.Param = dict(warmup_epochs=1,reduce_gamma=-2)\n",
    "    # metrics\n",
    "    Config.Training.Structure.Metrics.Name = ['DiceBCELoss']\n",
    "    Config.Training.Structure.Metrics.Param = [dict(use_logit=True,w_bce=0.2)]\n",
    "\n",
    "    # setup training\n",
    "    Config.Training.Checkpoint.Path = None\n",
    "    Config.Training.Checkpoint.FileName = ''\n",
    "    Config.Training.Checkpoint.Resume.Process = False\n",
    "    Config.Training.Checkpoint.Resume.Optimizer = False\n",
    "    Config.Training.Checkpoint.Resume.Scheduler = False\n",
    "    \n",
    "    # whether to freeze backbone\n",
    "    Config.Training.Settings.Model.FreezeBackbone = True\n",
    "    \n",
    "    # setup training process\n",
    "    Config.Training.Settings.Epochs = 20\n",
    "    Config.Training.Settings.GradientAccumulation = 4\n",
    "    Config.Training.Settings.AmpScaleTrain = True\n",
    "    # set random property\n",
    "    Config.Training.Settings.Random.cuDNN.Deterministic = True\n",
    "    Config.Training.Settings.Random.cuDNN.Benchmark = True\n",
    "    Config.Training.Settings.Random.Seed.Dataset.Split = 4\n",
    "    Config.Training.Settings.Random.Seed.Dataset.Transform = 10\n",
    "    Config.Training.Settings.Random.Seed.Dataset.Shuffle = 6\n",
    "    Config.Training.Settings.Random.Seed.Model = 99\n",
    "    \n",
    "    Config.Logging.StepsPerLog = 8\n",
    "    Config.Logging.Image.Columns = 3\n",
    "    Config.Logging.Image.Rows = 10\n",
    "    Config.Logging.Image.Figsize = (300,300)\n",
    "    Config.Logging.Image.Fontsize = 200\n",
    "    Config.Logging.Image.DPI = 10\n",
    "    Config.Logging.Image.MaskAlpha = 0.6\n",
    "    \n",
    "    Config.Logging.RootPath = 'logging'\n",
    "    Config.Logging.Model.Reference = 'Resnet'\n",
    "    Config.Logging.Model.Derivative = 'WithRegionalAttention'\n",
    "    Config.Logging.Model.Branch = 'instance_norm02'\n",
    "    Config.Logging.Comment = 'DiceBCELoss'\n",
    "    Config.Logging.Purpose = 'None'\n",
    "    Config.Logging.Note = 'None'"
   ]
  },
  {
   "cell_type": "code",
   "execution_count": 2,
   "id": "9a18b597",
   "metadata": {
    "scrolled": true
   },
   "outputs": [
    {
     "name": "stderr",
     "output_type": "stream",
     "text": [
      "EPOCH: 0 Training: 100%|██████████| 1631/1631 [05:53<00:00,  4.61it/s]\n",
      "EPOCH: 0 Validation: 100%|██████████| 43/43 [00:14<00:00,  3.03it/s]\n",
      "EPOCH: 0 Validation Without Transform: 100%|██████████| 43/43 [00:06<00:00,  6.42it/s]\n",
      "EPOCH: 1 Training: 100%|██████████| 1631/1631 [05:40<00:00,  4.80it/s]\n",
      "EPOCH: 1 Validation: 100%|██████████| 43/43 [00:13<00:00,  3.09it/s]\n",
      "EPOCH: 1 Validation Without Transform: 100%|██████████| 43/43 [00:06<00:00,  6.96it/s]\n",
      "EPOCH: 2 Training: 100%|██████████| 1631/1631 [05:15<00:00,  5.17it/s]\n",
      "EPOCH: 2 Validation: 100%|██████████| 43/43 [00:14<00:00,  3.06it/s]\n",
      "EPOCH: 2 Validation Without Transform: 100%|██████████| 43/43 [00:06<00:00,  6.59it/s]\n",
      "EPOCH: 3 Training: 100%|██████████| 1631/1631 [05:14<00:00,  5.19it/s]\n",
      "EPOCH: 3 Validation: 100%|██████████| 43/43 [00:12<00:00,  3.41it/s]\n",
      "EPOCH: 3 Validation Without Transform: 100%|██████████| 43/43 [00:06<00:00,  6.32it/s]\n",
      "EPOCH: 4 Training: 100%|██████████| 1631/1631 [05:19<00:00,  5.11it/s]\n",
      "EPOCH: 4 Validation: 100%|██████████| 43/43 [00:12<00:00,  3.48it/s]\n",
      "EPOCH: 4 Validation Without Transform: 100%|██████████| 43/43 [00:06<00:00,  6.69it/s]\n",
      "EPOCH: 5 Training: 100%|██████████| 1631/1631 [05:10<00:00,  5.25it/s]\n",
      "EPOCH: 5 Validation: 100%|██████████| 43/43 [00:14<00:00,  3.02it/s]\n",
      "EPOCH: 5 Validation Without Transform: 100%|██████████| 43/43 [00:06<00:00,  6.99it/s]\n",
      "EPOCH: 6 Training: 100%|██████████| 1631/1631 [05:14<00:00,  5.19it/s]\n",
      "EPOCH: 6 Validation: 100%|██████████| 43/43 [00:11<00:00,  3.59it/s]\n",
      "EPOCH: 6 Validation Without Transform: 100%|██████████| 43/43 [00:07<00:00,  6.01it/s]\n",
      "EPOCH: 7 Training: 100%|██████████| 1631/1631 [05:17<00:00,  5.14it/s]\n",
      "EPOCH: 7 Validation: 100%|██████████| 43/43 [00:14<00:00,  3.04it/s]\n",
      "EPOCH: 7 Validation Without Transform: 100%|██████████| 43/43 [00:06<00:00,  6.95it/s]\n",
      "EPOCH: 8 Training:  80%|███████▉  | 1298/1631 [04:08<01:06,  5.03it/s]"
     ]
    }
   ],
   "source": [
    "%run main.py"
   ]
  }
 ],
 "metadata": {
  "kernelspec": {
   "display_name": "Python 3",
   "language": "python",
   "name": "python3"
  },
  "language_info": {
   "codemirror_mode": {
    "name": "ipython",
    "version": 3
   },
   "file_extension": ".py",
   "mimetype": "text/x-python",
   "name": "python",
   "nbconvert_exporter": "python",
   "pygments_lexer": "ipython3",
   "version": "3.8.3"
  },
  "toc": {
   "base_numbering": 1,
   "nav_menu": {},
   "number_sections": true,
   "sideBar": true,
   "skip_h1_title": false,
   "title_cell": "Table of Contents",
   "title_sidebar": "Contents",
   "toc_cell": false,
   "toc_position": {},
   "toc_section_display": true,
   "toc_window_display": false
  },
  "varInspector": {
   "cols": {
    "lenName": 16,
    "lenType": 16,
    "lenVar": 40
   },
   "kernels_config": {
    "python": {
     "delete_cmd_postfix": "",
     "delete_cmd_prefix": "del ",
     "library": "var_list.py",
     "varRefreshCmd": "print(var_dic_list())"
    },
    "r": {
     "delete_cmd_postfix": ") ",
     "delete_cmd_prefix": "rm(",
     "library": "var_list.r",
     "varRefreshCmd": "cat(var_dic_list()) "
    }
   },
   "types_to_exclude": [
    "module",
    "function",
    "builtin_function_or_method",
    "instance",
    "_Feature"
   ],
   "window_display": false
  }
 },
 "nbformat": 4,
 "nbformat_minor": 5
}
