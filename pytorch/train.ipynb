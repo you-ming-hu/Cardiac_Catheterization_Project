{
 "cells": [
  {
   "cell_type": "code",
   "execution_count": 1,
   "id": "25a5adff",
   "metadata": {},
   "outputs": [],
   "source": [
    "import Transform.Schedule\n",
    "\n",
    "from Configuration import Editor\n",
    "\n",
    "with Editor('Config') as Config:\n",
    "\n",
    "    # settings for dataset\n",
    "    Config.Dataset.ImagesRootPath = r'D:\\Dataset_Collection\\Cardiac_Catheterization\\train\\images'\n",
    "    Config.Dataset.MasksRootPath = r'D:\\Dataset_Collection\\Cardiac_Catheterization\\train\\masks'\n",
    "    # control input and output image format\n",
    "    Config.Dataset.IO.InputRGBImage = False\n",
    "    Config.Dataset.IO.NumWorkers = 0\n",
    "    Config.Dataset.IO.PinMemory = False\n",
    "    Config.Dataset.IO.PrefetchFactor = 4\n",
    "    Config.Dataset.IO.OutputDtype = 'float'\n",
    "    # uniformed preprocess\n",
    "    Config.Dataset.Preprocess.Version = 'v1'\n",
    "    #train dataset\n",
    "    Config.Dataset.Train.BatchSize = 1\n",
    "    Config.Dataset.Train.Transform.Combination.Version = 'v1'\n",
    "    Config.Dataset.Train.Transform.Schedule = 0.8\n",
    "    Config.Dataset.Train.Transform.Combination.Components = 'default'\n",
    "    Config.Dataset.Train.Transform.Combination.Params = 'default'\n",
    "    Config.Dataset.Train.Transform.Combination.Schedules = 'default'\n",
    "    #validation dataset\n",
    "    Config.Dataset.Validation.BatchSize = 2\n",
    "    Config.Dataset.Validation.Ratio = 0.05\n",
    "    Config.Dataset.Validation.Transform.Combination.Version = 'v1'\n",
    "    Config.Dataset.Validation.Transform.Schedule = 0.8\n",
    "    Config.Dataset.Validation.Transform.Combination.Components = 'default'\n",
    "    Config.Dataset.Validation.Transform.Combination.Params = 'default'\n",
    "    Config.Dataset.Validation.Transform.Combination.Schedules = 'default'\n",
    "    \n",
    "    #choose training structure, including the model, loss, metrics, optimizer, schedular\n",
    "    Config.Training.Structure.Type = 'SimpleSeg'\n",
    "    # model\n",
    "    Config.Training.Structure.Model.Backbone.Name = 'smp_Unet'\n",
    "    Config.Training.Structure.Model.Backbone.Param = dict(encoder_name='efficientnet-b4', encoder_weights='imagenet', in_channels=1, output_dim=32)\n",
    "    Config.Training.Structure.Model.Head.Name = 'V1'\n",
    "    Config.Training.Structure.Model.Head.Param = dict(logit_output=True,in_channels=32)\n",
    "    # loss\n",
    "    Config.Training.Structure.Loss.Name = 'DiceBCELoss'\n",
    "    Config.Training.Structure.Loss.Param = dict(use_logit=True,w_bce=0.2)\n",
    "    # optimizer\n",
    "    Config.Training.Structure.Optimizer.Name = 'Adam'\n",
    "    Config.Training.Structure.Optimizer.Param = dict(lr=0.001)\n",
    "    # scheduler\n",
    "    Config.Training.Structure.Scheduler.Name = 'CustomSchedule1'\n",
    "    Config.Training.Structure.Scheduler.Param = dict(warmup_epochs=1,reduce_gamma=-2)\n",
    "    # metrics\n",
    "    Config.Training.Structure.Metrics.Name = ['DiceBCELoss']\n",
    "    Config.Training.Structure.Metrics.Param = [dict(use_logit=True,w_bce=0.2)]\n",
    "\n",
    "    # setup training\n",
    "    Config.Training.Checkpoint.Path = None\n",
    "    Config.Training.Checkpoint.FileName = ''\n",
    "    Config.Training.Checkpoint.Resume.Process = False\n",
    "    Config.Training.Checkpoint.Resume.Optimizer = False\n",
    "    Config.Training.Checkpoint.Resume.Scheduler = False\n",
    "    \n",
    "    # whether to freeze backbone\n",
    "    Config.Training.Settings.Model.FreezeBackbone = True\n",
    "    \n",
    "    # setup training process\n",
    "    Config.Training.Settings.Epochs = 20\n",
    "    Config.Training.Settings.GradientAccumulation = 4\n",
    "    Config.Training.Settings.AmpScaleTrain = True\n",
    "    # set random property\n",
    "    Config.Training.Settings.Random.cuDNN.Deterministic = True\n",
    "    Config.Training.Settings.Random.cuDNN.Benchmark = True\n",
    "    Config.Training.Settings.Random.Seed.Dataset.Split = 4\n",
    "    Config.Training.Settings.Random.Seed.Dataset.Transform = 10\n",
    "    Config.Training.Settings.Random.Seed.Dataset.Shuffle = 6\n",
    "    Config.Training.Settings.Random.Seed.Model = 99\n",
    "    \n",
    "    Config.Logging.StepsPerLog = 8\n",
    "    Config.Logging.Image.Columns = 3\n",
    "    Config.Logging.Image.Rows = 10\n",
    "    Config.Logging.Image.Figsize = (300,300)\n",
    "    Config.Logging.Image.Fontsize = 200\n",
    "    Config.Logging.Image.DPI = 10\n",
    "    Config.Logging.Image.MaskAlpha = 0.6\n",
    "    \n",
    "    Config.Logging.RootPath = 'logging'\n",
    "    Config.Logging.Project = 'Test'\n",
    "    Config.Logging.Comment = 'DiceBCELoss'\n",
    "    Config.Logging.Note = 'None'"
   ]
  },
  {
   "cell_type": "code",
   "execution_count": 2,
   "id": "9a18b597",
   "metadata": {
    "scrolled": true
   },
   "outputs": [
    {
     "name": "stderr",
     "output_type": "stream",
     "text": [
      "EPOCH: 0 Training: 100%|██████████| 1631/1631 [05:50<00:00,  4.65it/s, 1*DiceLoss(smoothing=1) + 0.2*BCELoss()=0.205365, BCELoss()=0.157550, DiceLoss(smoothing=1)=0.173855]\n",
      "EPOCH: 0 Validation: 100%|██████████| 43/43 [00:14<00:00,  2.95it/s, 1*DiceLoss(smoothing=1) + 0.2*BCELoss()=0.167862, BCELoss()=0.128120, DiceLoss(smoothing=1)=0.142238]\n",
      "EPOCH: 0 Validation Without Transform: 100%|██████████| 43/43 [00:07<00:00,  6.12it/s, 1*DiceLoss(smoothing=1) + 0.2*BCELoss()=0.157642, BCELoss()=0.116777, DiceLoss(smoothing=1)=0.134286]\n",
      "EPOCH: 1 Training: 100%|██████████| 1631/1631 [05:48<00:00,  4.68it/s, 1*DiceLoss(smoothing=1) + 0.2*BCELoss()=0.138382, BCELoss()=0.102431, DiceLoss(smoothing=1)=0.117896]\n",
      "EPOCH: 1 Validation: 100%|██████████| 43/43 [00:14<00:00,  3.00it/s, 1*DiceLoss(smoothing=1) + 0.2*BCELoss()=0.142449, BCELoss()=0.111291, DiceLoss(smoothing=1)=0.120191]\n",
      "EPOCH: 1 Validation Without Transform: 100%|██████████| 43/43 [00:06<00:00,  6.49it/s, 1*DiceLoss(smoothing=1) + 0.2*BCELoss()=0.134353, BCELoss()=0.102235, DiceLoss(smoothing=1)=0.113906]\n",
      "EPOCH: 2 Training:  15%|█▍        | 243/1631 [00:49<04:42,  4.92it/s, 1*DiceLoss(smoothing=1) + 0.2*BCELoss()=0.111081, BCELoss()=0.082579, DiceLoss(smoothing=1)=0.094566]\n"
     ]
    },
    {
     "ename": "KeyboardInterrupt",
     "evalue": "",
     "output_type": "error",
     "traceback": [
      "\u001b[1;31m---------------------------------------------------------------------------\u001b[0m",
      "\u001b[1;31mKeyboardInterrupt\u001b[0m                         Traceback (most recent call last)",
      "\u001b[1;32md:\\Portfolio\\Cardiac_Catheterization_Project\\pytorch\\main.py\u001b[0m in \u001b[0;36m<module>\u001b[1;34m\u001b[0m\n\u001b[0;32m    192\u001b[0m             \u001b[0macc_loss\u001b[0m \u001b[1;33m=\u001b[0m \u001b[0macc_loss\u001b[0m \u001b[1;33m/\u001b[0m \u001b[0mgradient_accumulation\u001b[0m\u001b[1;33m\u001b[0m\u001b[1;33m\u001b[0m\u001b[0m\n\u001b[0;32m    193\u001b[0m             \u001b[0mscaler\u001b[0m\u001b[1;33m.\u001b[0m\u001b[0mscale\u001b[0m\u001b[1;33m(\u001b[0m\u001b[0macc_loss\u001b[0m\u001b[1;33m)\u001b[0m\u001b[1;33m.\u001b[0m\u001b[0mbackward\u001b[0m\u001b[1;33m(\u001b[0m\u001b[1;33m)\u001b[0m\u001b[1;33m\u001b[0m\u001b[1;33m\u001b[0m\u001b[0m\n\u001b[1;32m--> 194\u001b[1;33m             \u001b[0mscaler\u001b[0m\u001b[1;33m.\u001b[0m\u001b[0mstep\u001b[0m\u001b[1;33m(\u001b[0m\u001b[0moptimizer\u001b[0m\u001b[1;33m)\u001b[0m\u001b[1;33m\u001b[0m\u001b[1;33m\u001b[0m\u001b[0m\n\u001b[0m\u001b[0;32m    195\u001b[0m             \u001b[0mscaler\u001b[0m\u001b[1;33m.\u001b[0m\u001b[0mupdate\u001b[0m\u001b[1;33m(\u001b[0m\u001b[1;33m)\u001b[0m\u001b[1;33m\u001b[0m\u001b[1;33m\u001b[0m\u001b[0m\n\u001b[0;32m    196\u001b[0m \u001b[1;33m\u001b[0m\u001b[0m\n",
      "\u001b[1;32m~\\anaconda3\\lib\\site-packages\\torch\\cuda\\amp\\grad_scaler.py\u001b[0m in \u001b[0;36mstep\u001b[1;34m(self, optimizer, *args, **kwargs)\u001b[0m\n\u001b[0;32m    336\u001b[0m         \u001b[1;32massert\u001b[0m \u001b[0mlen\u001b[0m\u001b[1;33m(\u001b[0m\u001b[0moptimizer_state\u001b[0m\u001b[1;33m[\u001b[0m\u001b[1;34m\"found_inf_per_device\"\u001b[0m\u001b[1;33m]\u001b[0m\u001b[1;33m)\u001b[0m \u001b[1;33m>\u001b[0m \u001b[1;36m0\u001b[0m\u001b[1;33m,\u001b[0m \u001b[1;34m\"No inf checks were recorded for this optimizer.\"\u001b[0m\u001b[1;33m\u001b[0m\u001b[1;33m\u001b[0m\u001b[0m\n\u001b[0;32m    337\u001b[0m \u001b[1;33m\u001b[0m\u001b[0m\n\u001b[1;32m--> 338\u001b[1;33m         \u001b[0mretval\u001b[0m \u001b[1;33m=\u001b[0m \u001b[0mself\u001b[0m\u001b[1;33m.\u001b[0m\u001b[0m_maybe_opt_step\u001b[0m\u001b[1;33m(\u001b[0m\u001b[0moptimizer\u001b[0m\u001b[1;33m,\u001b[0m \u001b[0moptimizer_state\u001b[0m\u001b[1;33m,\u001b[0m \u001b[1;33m*\u001b[0m\u001b[0margs\u001b[0m\u001b[1;33m,\u001b[0m \u001b[1;33m**\u001b[0m\u001b[0mkwargs\u001b[0m\u001b[1;33m)\u001b[0m\u001b[1;33m\u001b[0m\u001b[1;33m\u001b[0m\u001b[0m\n\u001b[0m\u001b[0;32m    339\u001b[0m \u001b[1;33m\u001b[0m\u001b[0m\n\u001b[0;32m    340\u001b[0m         \u001b[0moptimizer_state\u001b[0m\u001b[1;33m[\u001b[0m\u001b[1;34m\"stage\"\u001b[0m\u001b[1;33m]\u001b[0m \u001b[1;33m=\u001b[0m \u001b[0mOptState\u001b[0m\u001b[1;33m.\u001b[0m\u001b[0mSTEPPED\u001b[0m\u001b[1;33m\u001b[0m\u001b[1;33m\u001b[0m\u001b[0m\n",
      "\u001b[1;32m~\\anaconda3\\lib\\site-packages\\torch\\cuda\\amp\\grad_scaler.py\u001b[0m in \u001b[0;36m_maybe_opt_step\u001b[1;34m(self, optimizer, optimizer_state, *args, **kwargs)\u001b[0m\n\u001b[0;32m    282\u001b[0m     \u001b[1;32mdef\u001b[0m \u001b[0m_maybe_opt_step\u001b[0m\u001b[1;33m(\u001b[0m\u001b[0mself\u001b[0m\u001b[1;33m,\u001b[0m \u001b[0moptimizer\u001b[0m\u001b[1;33m,\u001b[0m \u001b[0moptimizer_state\u001b[0m\u001b[1;33m,\u001b[0m \u001b[1;33m*\u001b[0m\u001b[0margs\u001b[0m\u001b[1;33m,\u001b[0m \u001b[1;33m**\u001b[0m\u001b[0mkwargs\u001b[0m\u001b[1;33m)\u001b[0m\u001b[1;33m:\u001b[0m\u001b[1;33m\u001b[0m\u001b[1;33m\u001b[0m\u001b[0m\n\u001b[0;32m    283\u001b[0m         \u001b[0mretval\u001b[0m \u001b[1;33m=\u001b[0m \u001b[1;32mNone\u001b[0m\u001b[1;33m\u001b[0m\u001b[1;33m\u001b[0m\u001b[0m\n\u001b[1;32m--> 284\u001b[1;33m         \u001b[1;32mif\u001b[0m \u001b[1;32mnot\u001b[0m \u001b[0msum\u001b[0m\u001b[1;33m(\u001b[0m\u001b[0mv\u001b[0m\u001b[1;33m.\u001b[0m\u001b[0mitem\u001b[0m\u001b[1;33m(\u001b[0m\u001b[1;33m)\u001b[0m \u001b[1;32mfor\u001b[0m \u001b[0mv\u001b[0m \u001b[1;32min\u001b[0m \u001b[0moptimizer_state\u001b[0m\u001b[1;33m[\u001b[0m\u001b[1;34m\"found_inf_per_device\"\u001b[0m\u001b[1;33m]\u001b[0m\u001b[1;33m.\u001b[0m\u001b[0mvalues\u001b[0m\u001b[1;33m(\u001b[0m\u001b[1;33m)\u001b[0m\u001b[1;33m)\u001b[0m\u001b[1;33m:\u001b[0m\u001b[1;33m\u001b[0m\u001b[1;33m\u001b[0m\u001b[0m\n\u001b[0m\u001b[0;32m    285\u001b[0m             \u001b[0mretval\u001b[0m \u001b[1;33m=\u001b[0m \u001b[0moptimizer\u001b[0m\u001b[1;33m.\u001b[0m\u001b[0mstep\u001b[0m\u001b[1;33m(\u001b[0m\u001b[1;33m*\u001b[0m\u001b[0margs\u001b[0m\u001b[1;33m,\u001b[0m \u001b[1;33m**\u001b[0m\u001b[0mkwargs\u001b[0m\u001b[1;33m)\u001b[0m\u001b[1;33m\u001b[0m\u001b[1;33m\u001b[0m\u001b[0m\n\u001b[0;32m    286\u001b[0m         \u001b[1;32mreturn\u001b[0m \u001b[0mretval\u001b[0m\u001b[1;33m\u001b[0m\u001b[1;33m\u001b[0m\u001b[0m\n",
      "\u001b[1;32m~\\anaconda3\\lib\\site-packages\\torch\\cuda\\amp\\grad_scaler.py\u001b[0m in \u001b[0;36m<genexpr>\u001b[1;34m(.0)\u001b[0m\n\u001b[0;32m    282\u001b[0m     \u001b[1;32mdef\u001b[0m \u001b[0m_maybe_opt_step\u001b[0m\u001b[1;33m(\u001b[0m\u001b[0mself\u001b[0m\u001b[1;33m,\u001b[0m \u001b[0moptimizer\u001b[0m\u001b[1;33m,\u001b[0m \u001b[0moptimizer_state\u001b[0m\u001b[1;33m,\u001b[0m \u001b[1;33m*\u001b[0m\u001b[0margs\u001b[0m\u001b[1;33m,\u001b[0m \u001b[1;33m**\u001b[0m\u001b[0mkwargs\u001b[0m\u001b[1;33m)\u001b[0m\u001b[1;33m:\u001b[0m\u001b[1;33m\u001b[0m\u001b[1;33m\u001b[0m\u001b[0m\n\u001b[0;32m    283\u001b[0m         \u001b[0mretval\u001b[0m \u001b[1;33m=\u001b[0m \u001b[1;32mNone\u001b[0m\u001b[1;33m\u001b[0m\u001b[1;33m\u001b[0m\u001b[0m\n\u001b[1;32m--> 284\u001b[1;33m         \u001b[1;32mif\u001b[0m \u001b[1;32mnot\u001b[0m \u001b[0msum\u001b[0m\u001b[1;33m(\u001b[0m\u001b[0mv\u001b[0m\u001b[1;33m.\u001b[0m\u001b[0mitem\u001b[0m\u001b[1;33m(\u001b[0m\u001b[1;33m)\u001b[0m \u001b[1;32mfor\u001b[0m \u001b[0mv\u001b[0m \u001b[1;32min\u001b[0m \u001b[0moptimizer_state\u001b[0m\u001b[1;33m[\u001b[0m\u001b[1;34m\"found_inf_per_device\"\u001b[0m\u001b[1;33m]\u001b[0m\u001b[1;33m.\u001b[0m\u001b[0mvalues\u001b[0m\u001b[1;33m(\u001b[0m\u001b[1;33m)\u001b[0m\u001b[1;33m)\u001b[0m\u001b[1;33m:\u001b[0m\u001b[1;33m\u001b[0m\u001b[1;33m\u001b[0m\u001b[0m\n\u001b[0m\u001b[0;32m    285\u001b[0m             \u001b[0mretval\u001b[0m \u001b[1;33m=\u001b[0m \u001b[0moptimizer\u001b[0m\u001b[1;33m.\u001b[0m\u001b[0mstep\u001b[0m\u001b[1;33m(\u001b[0m\u001b[1;33m*\u001b[0m\u001b[0margs\u001b[0m\u001b[1;33m,\u001b[0m \u001b[1;33m**\u001b[0m\u001b[0mkwargs\u001b[0m\u001b[1;33m)\u001b[0m\u001b[1;33m\u001b[0m\u001b[1;33m\u001b[0m\u001b[0m\n\u001b[0;32m    286\u001b[0m         \u001b[1;32mreturn\u001b[0m \u001b[0mretval\u001b[0m\u001b[1;33m\u001b[0m\u001b[1;33m\u001b[0m\u001b[0m\n",
      "\u001b[1;31mKeyboardInterrupt\u001b[0m: "
     ]
    }
   ],
   "source": [
    "%run main.py"
   ]
  }
 ],
 "metadata": {
  "kernelspec": {
   "display_name": "Python 3",
   "language": "python",
   "name": "python3"
  },
  "language_info": {
   "codemirror_mode": {
    "name": "ipython",
    "version": 3
   },
   "file_extension": ".py",
   "mimetype": "text/x-python",
   "name": "python",
   "nbconvert_exporter": "python",
   "pygments_lexer": "ipython3",
   "version": "3.8.3"
  },
  "toc": {
   "base_numbering": 1,
   "nav_menu": {},
   "number_sections": true,
   "sideBar": true,
   "skip_h1_title": false,
   "title_cell": "Table of Contents",
   "title_sidebar": "Contents",
   "toc_cell": false,
   "toc_position": {},
   "toc_section_display": true,
   "toc_window_display": false
  },
  "varInspector": {
   "cols": {
    "lenName": 16,
    "lenType": 16,
    "lenVar": 40
   },
   "kernels_config": {
    "python": {
     "delete_cmd_postfix": "",
     "delete_cmd_prefix": "del ",
     "library": "var_list.py",
     "varRefreshCmd": "print(var_dic_list())"
    },
    "r": {
     "delete_cmd_postfix": ") ",
     "delete_cmd_prefix": "rm(",
     "library": "var_list.r",
     "varRefreshCmd": "cat(var_dic_list()) "
    }
   },
   "types_to_exclude": [
    "module",
    "function",
    "builtin_function_or_method",
    "instance",
    "_Feature"
   ],
   "window_display": false
  }
 },
 "nbformat": 4,
 "nbformat_minor": 5
}
