{
 "cells": [
  {
   "cell_type": "code",
   "execution_count": 1,
   "id": "25a5adff",
   "metadata": {},
   "outputs": [],
   "source": [
    "import Transform.Schedule\n",
    "\n",
    "from Configuration import Editor\n",
    "\n",
    "with Editor('Config') as Config:\n",
    "\n",
    "    # settings for dataset\n",
    "    Config.Dataset.ImagesRootPath = r'D:\\Dataset_Collection\\Cardiac_Catheterization\\train\\images'\n",
    "    Config.Dataset.MasksRootPath = r'D:\\Dataset_Collection\\Cardiac_Catheterization\\train\\masks'\n",
    "    # control input and output image format\n",
    "    Config.Dataset.IO.InputRGBImage = False\n",
    "    Config.Dataset.IO.NumWorkers = 0\n",
    "    Config.Dataset.IO.PinMemory = False\n",
    "    Config.Dataset.IO.PrefetchFactor = 4\n",
    "    Config.Dataset.IO.OutputDtype = 'float'\n",
    "    # uniformed preprocess\n",
    "    Config.Dataset.Preprocess.Version = 'v1'\n",
    "    #train dataset\n",
    "    Config.Dataset.Train.BatchSize = 1\n",
    "    Config.Dataset.Train.Transform.Combination.Version = 'v1'\n",
    "    Config.Dataset.Train.Transform.Schedule = 0.8\n",
    "    Config.Dataset.Train.Transform.Combination.Components = 'default'\n",
    "    Config.Dataset.Train.Transform.Combination.Params = 'default'\n",
    "    Config.Dataset.Train.Transform.Combination.Schedules = 'default'\n",
    "    #validation dataset\n",
    "    Config.Dataset.Validation.BatchSize = 2\n",
    "    Config.Dataset.Validation.Ratio = 0.05\n",
    "    Config.Dataset.Validation.Transform.Combination.Version = 'v1'\n",
    "    Config.Dataset.Validation.Transform.Schedule = 0.8\n",
    "    Config.Dataset.Validation.Transform.Combination.Components = 'default'\n",
    "    Config.Dataset.Validation.Transform.Combination.Params = 'default'\n",
    "    Config.Dataset.Validation.Transform.Combination.Schedules = 'default'\n",
    "    \n",
    "    #choose training structure, including the model, loss, metrics, optimizer, schedular\n",
    "    Config.Training.Structure.Type = 'SimpleSeg'\n",
    "    # model\n",
    "    Config.Training.Structure.Model.Backbone.Name = 'smp_Unet'\n",
    "    Config.Training.Structure.Model.Backbone.Param = dict(encoder_name='efficientnet-b4', encoder_weights='imagenet', in_channels=1, output_dim=32)\n",
    "    Config.Training.Structure.Model.Head.Name = 'V1'\n",
    "    Config.Training.Structure.Model.Head.Param = dict(logit_output=True,in_channels=32)\n",
    "    # loss\n",
    "    Config.Training.Structure.Loss.Name = 'DiceBCELoss'\n",
    "    Config.Training.Structure.Loss.Param = dict(use_logit=True,w_bce=0.2)\n",
    "    # optimizer\n",
    "    Config.Training.Structure.Optimizer.Name = 'Adam'\n",
    "    Config.Training.Structure.Optimizer.Param = dict(lr=0.001)\n",
    "    # scheduler\n",
    "    Config.Training.Structure.Scheduler.Name = 'CustomSchedule1'\n",
    "    Config.Training.Structure.Scheduler.Param = dict(warmup_epochs=1,reduce_gamma=-2)\n",
    "    # metrics\n",
    "    Config.Training.Structure.Metrics.Name = ['DiceBCELoss']\n",
    "    Config.Training.Structure.Metrics.Param = [dict(use_logit=True,w_bce=0.2)]\n",
    "\n",
    "    # setup training\n",
    "    Config.Training.Checkpoint.Path = None\n",
    "    Config.Training.Checkpoint.FileName = ''\n",
    "    Config.Training.Checkpoint.Resume.Process = False\n",
    "    Config.Training.Checkpoint.Resume.Optimizer = False\n",
    "    Config.Training.Checkpoint.Resume.Scheduler = False\n",
    "    \n",
    "    # whether to freeze backbone\n",
    "    Config.Training.Settings.Model.FreezeBackbone = True\n",
    "    \n",
    "    # setup training process\n",
    "    Config.Training.Settings.Epochs = 20\n",
    "    Config.Training.Settings.GradientAccumulation = 4\n",
    "    Config.Training.Settings.AmpScaleTrain = True\n",
    "    # set random property\n",
    "    Config.Training.Settings.Random.cuDNN.Deterministic = True\n",
    "    Config.Training.Settings.Random.cuDNN.Benchmark = True\n",
    "    Config.Training.Settings.Random.Seed.Dataset.Split = 4\n",
    "    Config.Training.Settings.Random.Seed.Dataset.Transform = 10\n",
    "    Config.Training.Settings.Random.Seed.Dataset.Shuffle = 6\n",
    "    Config.Training.Settings.Random.Seed.Model = 99\n",
    "    \n",
    "    Config.Logging.StepsPerLog = 8\n",
    "    Config.Logging.Image.Columns = 3\n",
    "    Config.Logging.Image.Rows = 10\n",
    "    Config.Logging.Image.Figsize = (300,300)\n",
    "    Config.Logging.Image.Fontsize = 200\n",
    "    Config.Logging.Image.DPI = 10\n",
    "    Config.Logging.Image.MaskAlpha = 0.6\n",
    "    Config.Logging.Image.Threshold = 0.5\n",
    "    \n",
    "    Config.Logging.RootPath = 'logging'\n",
    "    Config.Logging.FileName.Checkpoint = 'checkpoint'\n",
    "    Config.Logging.FileName.Summary = 'xxx'\n",
    "    Config.Logging.Note = 'None'"
   ]
  },
  {
   "cell_type": "code",
   "execution_count": null,
   "id": "9a18b597",
   "metadata": {
    "scrolled": true
   },
   "outputs": [],
   "source": [
    "%run main.py"
   ]
  },
  {
   "cell_type": "code",
   "execution_count": 1,
   "id": "60d29caa",
   "metadata": {},
   "outputs": [],
   "source": [
    "import torch\n",
    "import segmentation_models_pytorch as smp\n",
    "import torchinfo"
   ]
  }
 ],
 "metadata": {
  "kernelspec": {
   "display_name": "Python 3",
   "language": "python",
   "name": "python3"
  },
  "language_info": {
   "codemirror_mode": {
    "name": "ipython",
    "version": 3
   },
   "file_extension": ".py",
   "mimetype": "text/x-python",
   "name": "python",
   "nbconvert_exporter": "python",
   "pygments_lexer": "ipython3",
   "version": "3.8.3"
  },
  "toc": {
   "base_numbering": 1,
   "nav_menu": {},
   "number_sections": true,
   "sideBar": true,
   "skip_h1_title": false,
   "title_cell": "Table of Contents",
   "title_sidebar": "Contents",
   "toc_cell": false,
   "toc_position": {},
   "toc_section_display": true,
   "toc_window_display": false
  },
  "varInspector": {
   "cols": {
    "lenName": 16,
    "lenType": 16,
    "lenVar": 40
   },
   "kernels_config": {
    "python": {
     "delete_cmd_postfix": "",
     "delete_cmd_prefix": "del ",
     "library": "var_list.py",
     "varRefreshCmd": "print(var_dic_list())"
    },
    "r": {
     "delete_cmd_postfix": ") ",
     "delete_cmd_prefix": "rm(",
     "library": "var_list.r",
     "varRefreshCmd": "cat(var_dic_list()) "
    }
   },
   "types_to_exclude": [
    "module",
    "function",
    "builtin_function_or_method",
    "instance",
    "_Feature"
   ],
   "window_display": false
  }
 },
 "nbformat": 4,
 "nbformat_minor": 5
}
