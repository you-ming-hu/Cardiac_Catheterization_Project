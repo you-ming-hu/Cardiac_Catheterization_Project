{
 "cells": [
  {
   "cell_type": "code",
   "execution_count": null,
   "id": "699f42e3",
   "metadata": {},
   "outputs": [],
   "source": [
    "import pathlib\n",
    "import matplotlib.pyplot as plt\n",
    "import numpy as np\n",
    "import albumentations as A"
   ]
  },
  {
   "cell_type": "code",
   "execution_count": null,
   "id": "bf794bce",
   "metadata": {},
   "outputs": [],
   "source": [
    "def display_transform_example(transform,image,mask):\n",
    "    transform_result = transform(image = image, mask = mask)\n",
    "    t_image = transform_result['image']\n",
    "    t_mask = transform_result['mask']\n",
    "    \n",
    "    fontsize = 20\n",
    "    plt.figure(figsize=(20,60))\n",
    "\n",
    "    plt.subplot(1,3,1)\n",
    "    plt.imshow(t_image,cmap = 'gray')\n",
    "    plt.axis('off')\n",
    "    plt.title('Augumented w/o mask',fontsize=fontsize)\n",
    "\n",
    "    plt.subplot(1,3,2)\n",
    "    plt.imshow(t_image,cmap = 'gray')\n",
    "    plt.imshow(t_mask,alpha=0.1)\n",
    "    plt.axis('off')\n",
    "    plt.title('Augumented w mask',fontsize=fontsize)\n",
    "\n",
    "    plt.subplot(1,3,3)\n",
    "    plt.imshow(image,cmap = 'gray')\n",
    "    plt.axis('off')\n",
    "    plt.title('Original',fontsize=fontsize)\n",
    "\n",
    "    plt.show()\n",
    "    \n",
    "    return t_image, t_mask"
   ]
  },
  {
   "cell_type": "code",
   "execution_count": null,
   "id": "26ec2589",
   "metadata": {},
   "outputs": [],
   "source": [
    "DATA_ROOT_PATH = 'D:\\Dataset_Collection\\Cardiac_Catheterization'\n",
    "\n",
    "#default\n",
    "TRAIN_DATA_FOLDER_NAME = 'train'\n",
    "IMAGE_FOLDER_NAME = 'images'\n",
    "MASK_FOLDER_NAME = 'masks'\n",
    "\n",
    "image_paths = list(pathlib.Path(r'D:\\Dataset_Collection\\Cardiac_Catheterization\\train\\images').rglob('*.png'))\n",
    "mask_paths = list(pathlib.Path(r'D:\\Dataset_Collection\\Cardiac_Catheterization\\train\\masks').rglob('*.png'))\n",
    "\n",
    "i = 1\n",
    "image = (plt.imread(image_paths[i]) * 255).astype(np.uint8)\n",
    "mask = (plt.imread(mask_paths[i]) * 255).astype(np.uint8)\n",
    "\n",
    "image[200:210,:] = 0\n",
    "image[:,200:210] = 0\n",
    "\n",
    "t_image, t_mask = display_transform_example(transform,image,mask)"
   ]
  }
 ],
 "metadata": {
  "kernelspec": {
   "display_name": "Python 3",
   "language": "python",
   "name": "python3"
  },
  "language_info": {
   "codemirror_mode": {
    "name": "ipython",
    "version": 3
   },
   "file_extension": ".py",
   "mimetype": "text/x-python",
   "name": "python",
   "nbconvert_exporter": "python",
   "pygments_lexer": "ipython3",
   "version": "3.8.3"
  },
  "toc": {
   "base_numbering": 1,
   "nav_menu": {},
   "number_sections": true,
   "sideBar": true,
   "skip_h1_title": false,
   "title_cell": "Table of Contents",
   "title_sidebar": "Contents",
   "toc_cell": false,
   "toc_position": {},
   "toc_section_display": true,
   "toc_window_display": false
  },
  "varInspector": {
   "cols": {
    "lenName": 16,
    "lenType": 16,
    "lenVar": 40
   },
   "kernels_config": {
    "python": {
     "delete_cmd_postfix": "",
     "delete_cmd_prefix": "del ",
     "library": "var_list.py",
     "varRefreshCmd": "print(var_dic_list())"
    },
    "r": {
     "delete_cmd_postfix": ") ",
     "delete_cmd_prefix": "rm(",
     "library": "var_list.r",
     "varRefreshCmd": "cat(var_dic_list()) "
    }
   },
   "types_to_exclude": [
    "module",
    "function",
    "builtin_function_or_method",
    "instance",
    "_Feature"
   ],
   "window_display": false
  }
 },
 "nbformat": 4,
 "nbformat_minor": 5
}
