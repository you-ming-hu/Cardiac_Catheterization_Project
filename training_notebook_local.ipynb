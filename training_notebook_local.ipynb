{
 "cells": [
  {
   "cell_type": "code",
   "execution_count": 1,
   "id": "68b2812f",
   "metadata": {},
   "outputs": [],
   "source": [
    "import core.utils.configuration\n",
    "\n",
    "Config = core.utils.configuration.initialize_config()\n",
    "\n",
    "with Config:\n",
    "    Config.Data.Type = 'paired_images_with_contrast_label'\n",
    "    Config.Data.Image.Preprocess = 'GrayImage' #'GrayImage' 'RGBImage' 'BGRImage' \n",
    "    Config.Data.Image.Postprocess = 'CLAHE_float' #'CLAHE_float' 'CLAHE_int'\n",
    "    \n",
    "    Config.Model.Task = 'SegWithClass'\n",
    "    Config.Model.Param = dict(\n",
    "        backbone_name = 'UniversalUnet', #'UniversalUnet' 'EffiNetB4Unet_AttDs' 'EffiNetB4Unet_AttRes'\n",
    "        backbone_param = dict(\n",
    "            encoder_name = 'resnet50',\n",
    "            encoder_weights = 'imagenet',\n",
    "            in_channels = 3,\n",
    "            segmentation_dim = 4,\n",
    "            classfy_dim = 8),\n",
    "        seg_head_name = 'Head_1',\n",
    "        seg_head_param = dict(in_channels=4),\n",
    "        classify_heads_name = 'Head_1',\n",
    "        classify_heads_param = dict(in_channels=8)\n",
    "        )\n",
    "    \n",
    "    Config.Training.Settings.TrailNumber = 1\n",
    "    Config.Training.Settings.Epochs = 30\n",
    "    Config.Training.Settings.AmpScaleTrain = True\n",
    "    \n",
    "    Config.Training.Settings.Random.RootSeed = 100\n",
    "    Config.Training.Settings.Random.cuDNN.Deterministic = True\n",
    "    Config.Training.Settings.Random.cuDNN.Benchmark = True\n",
    "    \n",
    "    Config.Training.Dataset.Path = r'D:\\Datasets\\Cardiac_Catheterization\\train'\n",
    "    Config.Training.Dataset.NumWorkers = 0\n",
    "    Config.Training.Dataset.PinMemory = False\n",
    "    Config.Training.Dataset.PrefetchFactor = 2\n",
    "    Config.Training.Dataset.Train.BatchSize = 8\n",
    "    Config.Training.Dataset.Val.Ratio = 0.1\n",
    "    Config.Training.Dataset.Val.BatchSize = 16\n",
    "    Config.Training.Dataset.Augmentation.Prob = 'Constant(0.8)'\n",
    "    Config.Training.Dataset.Augmentation.Content = [\n",
    "        'GridDistortion             -p:Constant(0.8)',\n",
    "        'ElasticTransform           -p:Constant(0.8)',\n",
    "        'Affine                     -p:Constant(0.8)',\n",
    "        'GaussNoise                 -p:Constant(0.8)',\n",
    "        'Blur                       -p:Constant(0.8)',\n",
    "        'Downscale                  -p:Constant(0.8)',\n",
    "        'RandomBrightnessContrast   -p:Constant(0.8)'\n",
    "    ]\n",
    "    \n",
    "    Config.Training.Losses = [\n",
    "        'BCELoss2D  -subject:\"mask\"           -weights:\"contrast_exist\" -schedule:WarmUp(warmup_epochs=5,max_value=2)  -smooth:1',\n",
    "        'DiceLoss   -subject:\"mask\"           -weights:\"contrast_exist\" -schedule:Constant(1)',\n",
    "        'BCELoss    -subject:\"contrast_exist\" -weights:None             -schedule:Constant(1)'\n",
    "    ]\n",
    "    \n",
    "    Config.Training.Optimizer.Name = 'Adam'\n",
    "    Config.Training.Optimizer.Param = {'lr':0.001}\n",
    "    Config.Training.LearningRateSchedule.Name = ''\n",
    "    Config.Training.LearningRateSchedule.Param = {}\n",
    "    \n",
    "    Config.Training.Metrics = [\n",
    "        'BinaryAccuracy2D   -subject:\"mask\"           -weights:\"contrast_exist\" -threshold:0.5  -smooth:1',\n",
    "        'DiceAccuracy       -subject:\"mask\"           -weights:\"contrast_exist\" -threshold:0.5',\n",
    "        'BinaryAccuracy     -subject:\"contrast_exist\" -weights:None             -threshold:0.5'\n",
    "    ]\n",
    "    \n",
    "    Config.Record.Frequence = 8\n",
    "    Config.Record.RootPath = 'test_save_folder'\n",
    "    Config.Record.SaveModelWeights = True\n",
    "    Config.Record.Note = ''"
   ]
  },
  {
   "cell_type": "code",
   "execution_count": null,
   "id": "173e6534",
   "metadata": {},
   "outputs": [],
   "source": [
    "%run train2.py"
   ]
  }
 ],
 "metadata": {
  "interpreter": {
   "hash": "a077222d77dfe082b8f1dd562ad70e458ac2ab76993a0b248ab0476e32e9e8dd"
  },
  "kernelspec": {
   "display_name": "Python 3.8.3 ('base')",
   "language": "python",
   "name": "python3"
  },
  "language_info": {
   "codemirror_mode": {
    "name": "ipython",
    "version": 3
   },
   "file_extension": ".py",
   "mimetype": "text/x-python",
   "name": "python",
   "nbconvert_exporter": "python",
   "pygments_lexer": "ipython3",
   "version": "3.8.3"
  },
  "toc": {
   "base_numbering": 1,
   "nav_menu": {},
   "number_sections": true,
   "sideBar": true,
   "skip_h1_title": false,
   "title_cell": "Table of Contents",
   "title_sidebar": "Contents",
   "toc_cell": false,
   "toc_position": {},
   "toc_section_display": true,
   "toc_window_display": false
  },
  "varInspector": {
   "cols": {
    "lenName": 16,
    "lenType": 16,
    "lenVar": 40
   },
   "kernels_config": {
    "python": {
     "delete_cmd_postfix": "",
     "delete_cmd_prefix": "del ",
     "library": "var_list.py",
     "varRefreshCmd": "print(var_dic_list())"
    },
    "r": {
     "delete_cmd_postfix": ") ",
     "delete_cmd_prefix": "rm(",
     "library": "var_list.r",
     "varRefreshCmd": "cat(var_dic_list()) "
    }
   },
   "types_to_exclude": [
    "module",
    "function",
    "builtin_function_or_method",
    "instance",
    "_Feature"
   ],
   "window_display": false
  }
 },
 "nbformat": 4,
 "nbformat_minor": 5
}
