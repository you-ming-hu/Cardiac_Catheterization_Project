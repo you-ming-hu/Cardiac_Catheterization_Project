{
 "cells": [
  {
   "cell_type": "code",
   "execution_count": 1,
   "id": "c7b87461",
   "metadata": {},
   "outputs": [],
   "source": [
    "from core.utils.configuration import Config\n",
    "\n",
    "with Config:\n",
    "    # settings for dataset\n",
    "    Config.Dataset.ImagesRootPath = r'D:\\Dataset_Collection\\Cardiac_Catheterization\\train\\images'\n",
    "    Config.Dataset.MasksRootPath = r'D:\\Dataset_Collection\\Cardiac_Catheterization\\train\\masks'\n",
    "    # control input and output image format\n",
    "    Config.Dataset.IO.InputRGBImage = False\n",
    "    Config.Dataset.IO.NumWorkers = 0\n",
    "    Config.Dataset.IO.PinMemory = False\n",
    "    Config.Dataset.IO.PrefetchFactor = 2\n",
    "    Config.Dataset.IO.OutputDtype = 'float'\n",
    "    # uniformed preprocess\n",
    "    Config.Dataset.Preprocess.Version = 'v1'\n",
    "    #train dataset\n",
    "    Config.Dataset.Train.BatchSize = 8\n",
    "    Config.Dataset.Train.Transform.Combination.Version = 'v1'\n",
    "    Config.Dataset.Train.Transform.Combination.Components = 'default'\n",
    "    Config.Dataset.Train.Transform.Combination.Params = 'default'\n",
    "    Config.Dataset.Train.Transform.Combination.Schedules = 'default'\n",
    "    Config.Dataset.Train.Transform.Schedule = 0.8\n",
    "    #validation dataset\n",
    "    Config.Dataset.Validation.BatchSize = 8\n",
    "    Config.Dataset.Validation.Ratio = 0.05\n",
    "    Config.Dataset.Validation.Transform.Combination.Version = 'v1'\n",
    "    Config.Dataset.Validation.Transform.Combination.Components = 'default'\n",
    "    Config.Dataset.Validation.Transform.Combination.Params = 'default'\n",
    "    Config.Dataset.Validation.Transform.Combination.Schedules = 'default'\n",
    "    Config.Dataset.Validation.Transform.Schedule = 0.8\n",
    "    \n",
    "    #choose training structure, including the model, loss, metrics, optimizer, schedular\n",
    "    Config.Model.Task = 'SimpleSeg'\n",
    "    # model\n",
    "    Config.Model.Backbone.Name = 'Unet'\n",
    "    Config.Model.Backbone.Param = dict(encoder_name='resnet50', encoder_weights='imagenet', in_channels=1, out_channels=4)\n",
    "    Config.Model.Head.Name = 'Head_1'\n",
    "    Config.Model.Head.Param = dict(logit_output=True, in_channels=4)\n",
    "    \n",
    "    # loss\n",
    "    Config.Training.Losses.Name = ['DiceLoss','BCELoss']\n",
    "    Config.Training.Losses.Param = [{},{}]\n",
    "    Config.Training.Losses.Schedule = [1,0.2]\n",
    "    # optimizer\n",
    "    Config.Training.Optimizer.Name = 'Adam'\n",
    "    Config.Training.Optimizer.Param = dict(lr=0.001)\n",
    "    # scheduler\n",
    "    Config.Training.Scheduler.Name = 'Custom_1'\n",
    "    Config.Training.Scheduler.Param = dict(warmup_epochs=1,reduce_gamma=-2)\n",
    "    # metrics\n",
    "    Config.Training.Metrics.Name = ['DiceLoss','BCELoss','DiceAccuracy']\n",
    "    Config.Training.Metrics.Param = [dict(use_logit=True,w_bce=0.2),dict(use_logit=True,threshold=0.5)]\n",
    "    \n",
    "    # whether to freeze backbone\n",
    "    Config.Training.Settings.Model.FreezeBackbone = False\n",
    "    \n",
    "    # setup training process\n",
    "    Config.Training.Settings.Epochs = 30\n",
    "    Config.Training.Settings.GradientAccumulation = 1\n",
    "    Config.Training.Settings.AmpScaleTrain = True\n",
    "    # set random property\n",
    "    Config.Training.Settings.Random.cuDNN.Deterministic = True\n",
    "    Config.Training.Settings.Random.cuDNN.Benchmark = True\n",
    "    Config.Training.Settings.Random.Seed.Dataset.Split = 94\n",
    "    Config.Training.Settings.Random.Seed.Dataset.Transform = 180\n",
    "    Config.Training.Settings.Random.Seed.Dataset.Shuffle = 98\n",
    "    Config.Training.Settings.Random.Seed.Model = 53\n",
    "    \n",
    "    Config.Logging.StepsPerLog = 8\n",
    "    Config.Logging.Image.Columns = 3\n",
    "    Config.Logging.Image.Rows = 10\n",
    "    Config.Logging.Image.Figsize = (300,300)\n",
    "    Config.Logging.Image.Fontsize = 200\n",
    "    Config.Logging.Image.DPI = 10\n",
    "    Config.Logging.Image.MaskAlpha = 0.4\n",
    "    Config.Logging.Image.Threshold = 0.5\n",
    "    \n",
    "    Config.Logging.RootPath = 'Results'\n",
    "    Config.Logging.FolderName = 'resnet_pretrained'\n",
    "    Config.Logging.TrialNumber = 3\n",
    "    Config.Logging.Note = ''"
   ]
  },
  {
   "cell_type": "code",
   "execution_count": 1,
   "id": "68b2812f",
   "metadata": {},
   "outputs": [],
   "source": [
    "import core.utils.configuration\n",
    "\n",
    "Config = core.utils.configuration.initialize_config()\n",
    "\n",
    "with Config:\n",
    "    Config.Data.Type = 'paired_images_with_contrast_label'\n",
    "    Config.Data.Image.Preprocess = 'GrayImage' #'GrayImage' 'RGBImage' 'BGRImage' \n",
    "    Config.Data.Image.Postprocess = 'CLAHE_float' #'CLAHE_float' 'CLAHE_int'\n",
    "    \n",
    "    Config.Model.Task = 'SimpleSeg'\n",
    "    Config.Model.Param = dict(\n",
    "        backbone_name = 'UniversalUnet', #'UniversalUnet' 'EffiNetB4Unet_AttDs' 'EffiNetB4Unet_AttRes'\n",
    "        backbone_param = dict(\n",
    "            encoder_name='resnet50',\n",
    "            encoder_weights='imagenet',\n",
    "            in_channels=1,\n",
    "            out_channels=4),\n",
    "        seg_head_name = 'Head_1',\n",
    "        seg_head_param = dict(in_channels=4)\n",
    "        )\n",
    "    \n",
    "    Config.Training.Settings.TrailNumber = 1\n",
    "    Config.Training.Settings.Epochs = 30\n",
    "    Config.Training.Settings.AmpScaleTrain = True\n",
    "    \n",
    "    Config.Training.Settings.Random.RootSeed = 100\n",
    "    Config.Training.Settings.Random.cuDNN.Deterministic = True\n",
    "    Config.Training.Settings.Random.cuDNN.Benchmark = True\n",
    "    \n",
    "    Config.Training.Dataset.Path = r'D:\\Datasets\\Cardiac_Catheterization\\train'\n",
    "    Config.Training.Dataset.NumWorkers = 0\n",
    "    Config.Training.Dataset.PinMemory = False\n",
    "    Config.Training.Dataset.PrefetchFactor = 2\n",
    "    Config.Training.Dataset.Train.BatchSize = 8\n",
    "    Config.Training.Dataset.Val.Ratio = 0.1\n",
    "    Config.Training.Dataset.Val.BatchSize = 16\n",
    "    Config.Training.Dataset.Augmentation.Prob = 'Constant(0.8)'\n",
    "    Config.Training.Dataset.Augmentation.Content = [\n",
    "        'GridDistortion             -p:Constant(0.8)',\n",
    "        'ElasticTransform           -p:Constant(0.8)',\n",
    "        'Affine                     -p:Constant(0.8)',\n",
    "        'GaussNoise                 -p:Constant(0.8)',\n",
    "        'Blur                       -p:Constant(0.8)',\n",
    "        'Downscale                  -p:Constant(0.8)',\n",
    "        'RandomBrightnessContrast   -p:Constant(0.8)'\n",
    "    ]\n",
    "    \n",
    "    Config.Training.Losses = [\n",
    "        'BCELoss2D  -subject:\"mask\"           -weights:\"contrast_exist\" -schedule:WarmUp(warmup_epochs=5,max_value=2)  -smooth:1',\n",
    "        'DiceLoss   -subject:\"mask\"           -weights:\"contrast_exist\" -schedule:Constant(1)',\n",
    "        'BCELoss    -subject:\"contrast_exist\" -weights:None             -schedule:Constant(1)'\n",
    "    ]\n",
    "    \n",
    "    Config.Training.Optimizer.Name = 'Adam'\n",
    "    Config.Training.Optimizer.Param = {'lr':0.001}\n",
    "    Config.Training.LearningRateSchedule.Name = ''\n",
    "    Config.Training.LearningRateSchedule.Param = {}\n",
    "    \n",
    "    Config.Training.Metrics = [\n",
    "        'BinaryAccuracy2D   -subject:\"mask\"           -weights:\"contrast_exist\" -threshold:0.5  -smooth:1',\n",
    "        'DiceAccuracy       -subject:\"mask\"           -weights:\"contrast_exist\" -threshold:0.5',\n",
    "        'BinaryAccuracy     -subject:\"contrast_exist\" -weights:None             -threshold:0.5'\n",
    "    ]\n",
    "    \n",
    "    Config.Record.Frequence = 8\n",
    "    Config.Record.RootPath = 'Results'\n",
    "    Config.Record.FolderName = 'resnet_pretrained'\n",
    "    Config.Record.Note = ''"
   ]
  },
  {
   "cell_type": "code",
   "execution_count": 28,
   "id": "7ce6e3ee",
   "metadata": {},
   "outputs": [],
   "source": [
    "import torch\n",
    "\n",
    "model = torch.nn.Sequential(torch.nn.Conv2d(5,10,3))"
   ]
  },
  {
   "cell_type": "code",
   "execution_count": 30,
   "id": "e0663360",
   "metadata": {},
   "outputs": [],
   "source": [
    "device = torch.device(\"cuda\" if torch.cuda.is_available() else \"cpu\")\n"
   ]
  },
  {
   "cell_type": "code",
   "execution_count": 34,
   "id": "41a87922",
   "metadata": {},
   "outputs": [],
   "source": [
    "model = model.to(device)"
   ]
  },
  {
   "cell_type": "code",
   "execution_count": 40,
   "id": "5b266c91",
   "metadata": {},
   "outputs": [
    {
     "data": {
      "text/plain": [
       "tensor([[[[1., 1., 1., 1., 1.],\n",
       "          [1., 1., 1., 1., 1.],\n",
       "          [1., 1., 1., 1., 1.],\n",
       "          [1., 1., 1., 1., 1.],\n",
       "          [1., 1., 1., 1., 1.]],\n",
       "\n",
       "         [[1., 1., 1., 1., 1.],\n",
       "          [1., 1., 1., 1., 1.],\n",
       "          [1., 1., 1., 1., 1.],\n",
       "          [1., 1., 1., 1., 1.],\n",
       "          [1., 1., 1., 1., 1.]],\n",
       "\n",
       "         [[1., 1., 1., 1., 1.],\n",
       "          [1., 1., 1., 1., 1.],\n",
       "          [1., 1., 1., 1., 1.],\n",
       "          [1., 1., 1., 1., 1.],\n",
       "          [1., 1., 1., 1., 1.]],\n",
       "\n",
       "         [[1., 1., 1., 1., 1.],\n",
       "          [1., 1., 1., 1., 1.],\n",
       "          [1., 1., 1., 1., 1.],\n",
       "          [1., 1., 1., 1., 1.],\n",
       "          [1., 1., 1., 1., 1.]],\n",
       "\n",
       "         [[1., 1., 1., 1., 1.],\n",
       "          [1., 1., 1., 1., 1.],\n",
       "          [1., 1., 1., 1., 1.],\n",
       "          [1., 1., 1., 1., 1.],\n",
       "          [1., 1., 1., 1., 1.]]],\n",
       "\n",
       "\n",
       "        [[[1., 1., 1., 1., 1.],\n",
       "          [1., 1., 1., 1., 1.],\n",
       "          [1., 1., 1., 1., 1.],\n",
       "          [1., 1., 1., 1., 1.],\n",
       "          [1., 1., 1., 1., 1.]],\n",
       "\n",
       "         [[1., 1., 1., 1., 1.],\n",
       "          [1., 1., 1., 1., 1.],\n",
       "          [1., 1., 1., 1., 1.],\n",
       "          [1., 1., 1., 1., 1.],\n",
       "          [1., 1., 1., 1., 1.]],\n",
       "\n",
       "         [[1., 1., 1., 1., 1.],\n",
       "          [1., 1., 1., 1., 1.],\n",
       "          [1., 1., 1., 1., 1.],\n",
       "          [1., 1., 1., 1., 1.],\n",
       "          [1., 1., 1., 1., 1.]],\n",
       "\n",
       "         [[1., 1., 1., 1., 1.],\n",
       "          [1., 1., 1., 1., 1.],\n",
       "          [1., 1., 1., 1., 1.],\n",
       "          [1., 1., 1., 1., 1.],\n",
       "          [1., 1., 1., 1., 1.]],\n",
       "\n",
       "         [[1., 1., 1., 1., 1.],\n",
       "          [1., 1., 1., 1., 1.],\n",
       "          [1., 1., 1., 1., 1.],\n",
       "          [1., 1., 1., 1., 1.],\n",
       "          [1., 1., 1., 1., 1.]]]], device='cuda:0', dtype=torch.float64)"
      ]
     },
     "execution_count": 40,
     "metadata": {},
     "output_type": "execute_result"
    }
   ],
   "source": [
    "x = torch.ones((2,5,5,5),dtype=float)\n",
    "x = x.to(device)\n",
    "x"
   ]
  },
  {
   "cell_type": "code",
   "execution_count": 6,
   "id": "c1f74137",
   "metadata": {},
   "outputs": [
    {
     "data": {
      "text/plain": [
       "[0.85, 0.86]"
      ]
     },
     "execution_count": 6,
     "metadata": {},
     "output_type": "execute_result"
    }
   ],
   "source": [
    "import pathlib\n",
    "\n",
    "list(float(x.with_suffix('').name.replace('pred_','')) for x in pathlib.Path(r'D:\\Datasets\\Cardiac_Catheterization\\新增資料夾').glob('pred_*.png'))"
   ]
  },
  {
   "cell_type": "code",
   "execution_count": 7,
   "id": "8c8e1020",
   "metadata": {},
   "outputs": [
    {
     "ename": "TypeError",
     "evalue": "unsupported format string passed to NoneType.__format__",
     "output_type": "error",
     "traceback": [
      "\u001b[1;31m---------------------------------------------------------------------------\u001b[0m",
      "\u001b[1;31mTypeError\u001b[0m                                 Traceback (most recent call last)",
      "\u001b[1;32m<ipython-input-7-8e19cddea75b>\u001b[0m in \u001b[0;36m<module>\u001b[1;34m\u001b[0m\n\u001b[1;32m----> 1\u001b[1;33m \u001b[1;34mf'{None:.4f}'\u001b[0m\u001b[1;33m\u001b[0m\u001b[1;33m\u001b[0m\u001b[0m\n\u001b[0m",
      "\u001b[1;31mTypeError\u001b[0m: unsupported format string passed to NoneType.__format__"
     ]
    }
   ],
   "source": [
    "f'{None:.4f}'"
   ]
  },
  {
   "cell_type": "code",
   "execution_count": 12,
   "id": "5023fae1",
   "metadata": {},
   "outputs": [],
   "source": [
    "import numpy as np\n",
    "from torch.utils.tensorboard import SummaryWriter\n",
    "writer = SummaryWriter('xxx')\n",
    "r = 5\n",
    "for i in range(100):\n",
    "    writer.add_scalar('run_15h',1,i)\n",
    "    writer.add_scalars('run_15h', {'xsinx':i*np.sin(i/r),\n",
    "                                    'xcosx':i*np.cos(i/r),\n",
    "                                    'tanx': np.tan(i/r)}, i)\n",
    "writer.close()"
   ]
  }
 ],
 "metadata": {
  "interpreter": {
   "hash": "a077222d77dfe082b8f1dd562ad70e458ac2ab76993a0b248ab0476e32e9e8dd"
  },
  "kernelspec": {
   "display_name": "Python 3.8.3 ('base')",
   "language": "python",
   "name": "python3"
  },
  "language_info": {
   "codemirror_mode": {
    "name": "ipython",
    "version": 3
   },
   "file_extension": ".py",
   "mimetype": "text/x-python",
   "name": "python",
   "nbconvert_exporter": "python",
   "pygments_lexer": "ipython3",
   "version": "3.8.3"
  },
  "toc": {
   "base_numbering": 1,
   "nav_menu": {},
   "number_sections": true,
   "sideBar": true,
   "skip_h1_title": false,
   "title_cell": "Table of Contents",
   "title_sidebar": "Contents",
   "toc_cell": false,
   "toc_position": {},
   "toc_section_display": true,
   "toc_window_display": false
  },
  "varInspector": {
   "cols": {
    "lenName": 16,
    "lenType": 16,
    "lenVar": 40
   },
   "kernels_config": {
    "python": {
     "delete_cmd_postfix": "",
     "delete_cmd_prefix": "del ",
     "library": "var_list.py",
     "varRefreshCmd": "print(var_dic_list())"
    },
    "r": {
     "delete_cmd_postfix": ") ",
     "delete_cmd_prefix": "rm(",
     "library": "var_list.r",
     "varRefreshCmd": "cat(var_dic_list()) "
    }
   },
   "types_to_exclude": [
    "module",
    "function",
    "builtin_function_or_method",
    "instance",
    "_Feature"
   ],
   "window_display": false
  }
 },
 "nbformat": 4,
 "nbformat_minor": 5
}
